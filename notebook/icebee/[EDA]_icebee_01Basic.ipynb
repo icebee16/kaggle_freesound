{
 "cells": [
  {
   "cell_type": "markdown",
   "metadata": {},
   "source": [
    "# Freesound Audio Tagging 2019\n",
    "\n",
    "## Basic EDA icebee\n",
    "\n",
    "reference : https://www.kaggle.com/c/freesound-audio-tagging-2019"
   ]
  },
  {
   "cell_type": "code",
   "execution_count": 1,
   "metadata": {
    "ExecuteTime": {
     "end_time": "2019-05-15T14:32:59.749647Z",
     "start_time": "2019-05-15T14:32:58.869451Z"
    }
   },
   "outputs": [],
   "source": [
    "# ============= #\n",
    "# import module #\n",
    "# ============= #\n",
    "\n",
    "# sys\n",
    "import gc\n",
    "import os\n",
    "import warnings\n",
    "\n",
    "# util\n",
    "import time\n",
    "import logging\n",
    "import datetime\n",
    "import tqdm\n",
    "from pathlib import Path\n",
    "from IPython.display import display\n",
    "from itertools import chain\n",
    "\n",
    "# numerical\n",
    "import numpy as np\n",
    "import pandas as pd\n",
    "from scipy import stats\n",
    "\n",
    "# visualize\n",
    "import matplotlib.pyplot as plt\n",
    "import seaborn as sns\n",
    "\n",
    "\n",
    "# addiction\n",
    "warnings.filterwarnings(\"ignore\")"
   ]
  },
  {
   "cell_type": "markdown",
   "metadata": {},
   "source": [
    "## Load Data"
   ]
  },
  {
   "cell_type": "code",
   "execution_count": 2,
   "metadata": {
    "ExecuteTime": {
     "end_time": "2019-05-15T14:32:59.756702Z",
     "start_time": "2019-05-15T14:32:59.752671Z"
    }
   },
   "outputs": [],
   "source": [
    "ROOT_PATH = Path(\".\").absolute().parents[0]"
   ]
  },
  {
   "cell_type": "code",
   "execution_count": 3,
   "metadata": {
    "ExecuteTime": {
     "end_time": "2019-05-15T14:32:59.822235Z",
     "start_time": "2019-05-15T14:32:59.758963Z"
    }
   },
   "outputs": [
    {
     "name": "stdout",
     "output_type": "stream",
     "text": [
      "<class 'pandas.core.frame.DataFrame'>\n",
      "RangeIndex: 4970 entries, 0 to 4969\n",
      "Data columns (total 2 columns):\n",
      "fname     4970 non-null object\n",
      "labels    4970 non-null object\n",
      "dtypes: object(2)\n",
      "memory usage: 77.7+ KB\n"
     ]
    },
    {
     "data": {
      "text/plain": [
       "None"
      ]
     },
     "metadata": {},
     "output_type": "display_data"
    }
   ],
   "source": [
    "train_curated_df = pd.read_csv(ROOT_PATH / \"input\" / \"train_curated.csv\")\n",
    "display(train_curated_df.info())"
   ]
  },
  {
   "cell_type": "code",
   "execution_count": 4,
   "metadata": {
    "ExecuteTime": {
     "end_time": "2019-05-15T14:32:59.855532Z",
     "start_time": "2019-05-15T14:32:59.828412Z"
    }
   },
   "outputs": [
    {
     "name": "stdout",
     "output_type": "stream",
     "text": [
      "<class 'pandas.core.frame.DataFrame'>\n",
      "RangeIndex: 19815 entries, 0 to 19814\n",
      "Data columns (total 2 columns):\n",
      "fname     19815 non-null object\n",
      "labels    19815 non-null object\n",
      "dtypes: object(2)\n",
      "memory usage: 309.7+ KB\n"
     ]
    },
    {
     "data": {
      "text/plain": [
       "None"
      ]
     },
     "metadata": {},
     "output_type": "display_data"
    }
   ],
   "source": [
    "train_noisy_df = pd.read_csv(ROOT_PATH / \"input\" / \"train_noisy.csv\")\n",
    "display(train_noisy_df.info())"
   ]
  },
  {
   "cell_type": "markdown",
   "metadata": {},
   "source": [
    "## Data Check"
   ]
  },
  {
   "cell_type": "markdown",
   "metadata": {},
   "source": [
    "### curated train"
   ]
  },
  {
   "cell_type": "code",
   "execution_count": 5,
   "metadata": {
    "ExecuteTime": {
     "end_time": "2019-05-15T14:33:00.844207Z",
     "start_time": "2019-05-15T14:33:00.834103Z"
    }
   },
   "outputs": [
    {
     "data": {
      "text/html": [
       "<div>\n",
       "<style scoped>\n",
       "    .dataframe tbody tr th:only-of-type {\n",
       "        vertical-align: middle;\n",
       "    }\n",
       "\n",
       "    .dataframe tbody tr th {\n",
       "        vertical-align: top;\n",
       "    }\n",
       "\n",
       "    .dataframe thead th {\n",
       "        text-align: right;\n",
       "    }\n",
       "</style>\n",
       "<table border=\"1\" class=\"dataframe\">\n",
       "  <thead>\n",
       "    <tr style=\"text-align: right;\">\n",
       "      <th></th>\n",
       "      <th>fname</th>\n",
       "      <th>labels</th>\n",
       "    </tr>\n",
       "  </thead>\n",
       "  <tbody>\n",
       "    <tr>\n",
       "      <th>0</th>\n",
       "      <td>0006ae4e.wav</td>\n",
       "      <td>Bark</td>\n",
       "    </tr>\n",
       "    <tr>\n",
       "      <th>1</th>\n",
       "      <td>0019ef41.wav</td>\n",
       "      <td>Raindrop</td>\n",
       "    </tr>\n",
       "    <tr>\n",
       "      <th>2</th>\n",
       "      <td>001ec0ad.wav</td>\n",
       "      <td>Finger_snapping</td>\n",
       "    </tr>\n",
       "    <tr>\n",
       "      <th>3</th>\n",
       "      <td>0026c7cb.wav</td>\n",
       "      <td>Run</td>\n",
       "    </tr>\n",
       "    <tr>\n",
       "      <th>4</th>\n",
       "      <td>0026f116.wav</td>\n",
       "      <td>Finger_snapping</td>\n",
       "    </tr>\n",
       "    <tr>\n",
       "      <th>5</th>\n",
       "      <td>003be5db.wav</td>\n",
       "      <td>Whispering</td>\n",
       "    </tr>\n",
       "    <tr>\n",
       "      <th>6</th>\n",
       "      <td>0041de6b.wav</td>\n",
       "      <td>Acoustic_guitar,Strum</td>\n",
       "    </tr>\n",
       "    <tr>\n",
       "      <th>7</th>\n",
       "      <td>004ca909.wav</td>\n",
       "      <td>Hi-hat</td>\n",
       "    </tr>\n",
       "    <tr>\n",
       "      <th>8</th>\n",
       "      <td>00713ec2.wav</td>\n",
       "      <td>Bass_drum</td>\n",
       "    </tr>\n",
       "    <tr>\n",
       "      <th>9</th>\n",
       "      <td>0073825a.wav</td>\n",
       "      <td>Crowd,Cheering</td>\n",
       "    </tr>\n",
       "  </tbody>\n",
       "</table>\n",
       "</div>"
      ],
      "text/plain": [
       "          fname                 labels\n",
       "0  0006ae4e.wav                   Bark\n",
       "1  0019ef41.wav               Raindrop\n",
       "2  001ec0ad.wav        Finger_snapping\n",
       "3  0026c7cb.wav                    Run\n",
       "4  0026f116.wav        Finger_snapping\n",
       "5  003be5db.wav             Whispering\n",
       "6  0041de6b.wav  Acoustic_guitar,Strum\n",
       "7  004ca909.wav                 Hi-hat\n",
       "8  00713ec2.wav              Bass_drum\n",
       "9  0073825a.wav         Crowd,Cheering"
      ]
     },
     "metadata": {},
     "output_type": "display_data"
    }
   ],
   "source": [
    "display(train_curated_df.head(10))"
   ]
  },
  {
   "cell_type": "code",
   "execution_count": 6,
   "metadata": {
    "ExecuteTime": {
     "end_time": "2019-05-15T14:33:01.229170Z",
     "start_time": "2019-05-15T14:33:01.224516Z"
    }
   },
   "outputs": [
    {
     "name": "stdout",
     "output_type": "stream",
     "text": [
      "Number of category in curated data : 213\n"
     ]
    }
   ],
   "source": [
    "print(\"Number of category in curated data : {}\".format(len(train_curated_df[\"labels\"].unique())))"
   ]
  },
  {
   "cell_type": "code",
   "execution_count": 7,
   "metadata": {
    "ExecuteTime": {
     "end_time": "2019-05-15T14:33:01.723590Z",
     "start_time": "2019-05-15T14:33:01.718085Z"
    }
   },
   "outputs": [
    {
     "name": "stdout",
     "output_type": "stream",
     "text": [
      "Number of separated category in curated data : 80\n"
     ]
    }
   ],
   "source": [
    "cat_list = train_curated_df[\"labels\"].unique()\n",
    "separate = [c.split(\",\")  for c in cat_list]\n",
    "separate_cat_list = list(set(chain.from_iterable(separate)))\n",
    "print(\"Number of separated category in curated data : {}\".format(len(separate_cat_list)))\n",
    "del cat_list, separate"
   ]
  },
  {
   "cell_type": "code",
   "execution_count": 8,
   "metadata": {
    "ExecuteTime": {
     "end_time": "2019-05-15T14:33:02.172460Z",
     "start_time": "2019-05-15T14:33:02.168077Z"
    }
   },
   "outputs": [
    {
     "name": "stdout",
     "output_type": "stream",
     "text": [
      "Number of single category in curated data : 74\n"
     ]
    }
   ],
   "source": [
    "single_cat_list = set(separate_cat_list) & set(train_curated_df[\"labels\"].unique())\n",
    "print(\"Number of single category in curated data : {}\".format(len(single_cat_list)))"
   ]
  },
  {
   "cell_type": "code",
   "execution_count": 9,
   "metadata": {
    "ExecuteTime": {
     "end_time": "2019-05-15T14:33:02.564504Z",
     "start_time": "2019-05-15T14:33:02.558033Z"
    }
   },
   "outputs": [
    {
     "name": "stdout",
     "output_type": "stream",
     "text": [
      "Single category not in curated data :\n",
      ">> Water_tap_and_faucet\n",
      ">> Sink_(filling_or_washing)\n",
      ">> Applause\n",
      ">> Cheering\n",
      ">> Dishes_and_pots_and_pans\n",
      ">> Strum\n"
     ]
    }
   ],
   "source": [
    "not_in_single_cat = set(separate_cat_list) - set(single_cat_list)\n",
    "print(\"Single category not in curated data :\")\n",
    "for c in not_in_single_cat:\n",
    "    print(\">> {}\".format(c))"
   ]
  },
  {
   "cell_type": "code",
   "execution_count": 10,
   "metadata": {
    "ExecuteTime": {
     "end_time": "2019-05-15T14:36:05.462826Z",
     "start_time": "2019-05-15T14:36:05.458489Z"
    }
   },
   "outputs": [
    {
     "name": "stdout",
     "output_type": "stream",
     "text": [
      "6\n"
     ]
    }
   ],
   "source": [
    "ll = train_curated_df[\"labels\"].unique()\n",
    "ll_2 = [len(l.split(\",\")) for l in ll]\n",
    "print(max(ll_2))"
   ]
  },
  {
   "cell_type": "markdown",
   "metadata": {},
   "source": [
    "### noisy train"
   ]
  },
  {
   "cell_type": "code",
   "execution_count": 15,
   "metadata": {},
   "outputs": [
    {
     "name": "stdout",
     "output_type": "stream",
     "text": [
      "Number of category in noisy data : 1168\n"
     ]
    }
   ],
   "source": [
    "print(\"Number of category in noisy data : {}\".format(len(train_noisy_df[\"labels\"].unique())))"
   ]
  },
  {
   "cell_type": "code",
   "execution_count": 20,
   "metadata": {},
   "outputs": [
    {
     "name": "stdout",
     "output_type": "stream",
     "text": [
      "Number of separated category in noisy data : 80\n"
     ]
    }
   ],
   "source": [
    "cat_list = train_noisy_df[\"labels\"].unique()\n",
    "separate = [c.split(\",\") for c in cat_list]\n",
    "separate_cat_list = list(set(chain.from_iterable(separate)))\n",
    "print(\"Number of separated category in noisy data : {}\".format(len(separate_cat_list)))\n",
    "del cat_list, separate"
   ]
  },
  {
   "cell_type": "code",
   "execution_count": 23,
   "metadata": {},
   "outputs": [
    {
     "name": "stdout",
     "output_type": "stream",
     "text": [
      "Number of single category in noisy data : 80\n"
     ]
    }
   ],
   "source": [
    "single_cat_list = set(separate_cat_list) & set(train_noisy_df[\"labels\"].unique())\n",
    "print(\"Number of single category in noisy data : {}\".format(len(single_cat_list)))"
   ]
  },
  {
   "cell_type": "code",
   "execution_count": 12,
   "metadata": {
    "ExecuteTime": {
     "end_time": "2019-05-15T14:37:03.020622Z",
     "start_time": "2019-05-15T14:37:03.015226Z"
    }
   },
   "outputs": [
    {
     "name": "stdout",
     "output_type": "stream",
     "text": [
      "7\n"
     ]
    }
   ],
   "source": [
    "ll = train_noisy_df[\"labels\"].unique()\n",
    "ll_2 = [len(l.split(\",\")) for l in ll]\n",
    "print(max(ll_2))"
   ]
  }
 ],
 "metadata": {
  "kernelspec": {
   "display_name": "Python 3",
   "language": "python",
   "name": "python3"
  },
  "language_info": {
   "codemirror_mode": {
    "name": "ipython",
    "version": 3
   },
   "file_extension": ".py",
   "mimetype": "text/x-python",
   "name": "python",
   "nbconvert_exporter": "python",
   "pygments_lexer": "ipython3",
   "version": "3.6.6"
  },
  "toc": {
   "base_numbering": 1,
   "nav_menu": {},
   "number_sections": true,
   "sideBar": true,
   "skip_h1_title": false,
   "title_cell": "Table of Contents",
   "title_sidebar": "Contents",
   "toc_cell": false,
   "toc_position": {},
   "toc_section_display": true,
   "toc_window_display": false
  }
 },
 "nbformat": 4,
 "nbformat_minor": 2
}
