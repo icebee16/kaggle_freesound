{
 "cells": [
  {
   "cell_type": "markdown",
   "metadata": {},
   "source": [
    "## Updates\n",
    "- Change Augmentation\n",
    "    - `Augmentation in : GaussianBlur, out : Fliplr`"
   ]
  },
  {
   "cell_type": "markdown",
   "metadata": {},
   "source": [
    "## Mode"
   ]
  },
  {
   "cell_type": "code",
   "execution_count": 1,
   "metadata": {
    "ExecuteTime": {
     "end_time": "2019-05-23T15:50:45.937559Z",
     "start_time": "2019-05-23T15:50:45.934950Z"
    }
   },
   "outputs": [],
   "source": [
    "DEBUG_MODE = False"
   ]
  },
  {
   "cell_type": "markdown",
   "metadata": {},
   "source": [
    "## Parameters"
   ]
  },
  {
   "cell_type": "code",
   "execution_count": 2,
   "metadata": {
    "ExecuteTime": {
     "end_time": "2019-05-23T16:34:36.190285Z",
     "start_time": "2019-05-23T16:34:36.186939Z"
    }
   },
   "outputs": [],
   "source": [
    "# Use or not use\n",
    "CURATED_ONLY = True # use only curated data for training\n",
    "USE_CLEAN_NOISY = True # Use clean noisy or dirty noisy\n",
    "TRAIN_AUGMENT = True # use augmentation for training data?\n",
    "USE_KERNEL_DATASET = True\n",
    "MODEL = 'cnn8th' # choose among 'crnn', 'simple', 'cnn8th'"
   ]
  },
  {
   "cell_type": "code",
   "execution_count": 3,
   "metadata": {
    "ExecuteTime": {
     "end_time": "2019-05-25T15:02:06.852200Z",
     "start_time": "2019-05-25T15:02:06.849911Z"
    }
   },
   "outputs": [],
   "source": [
    "# Config for librosa\n",
    "SAMPLING_RATE = 44100 # 44.1[kHz]\n",
    "SAMPLE_DURATION = 2    # 2[sec]\n",
    "N_MEL = 128  # spectrogram y axis size\n",
    "HOP_WINDOW = 347\n",
    "FFT_WINDOW_SIZE = 20"
   ]
  },
  {
   "cell_type": "code",
   "execution_count": 4,
   "metadata": {
    "ExecuteTime": {
     "end_time": "2019-05-23T16:35:00.083604Z",
     "start_time": "2019-05-23T16:35:00.081045Z"
    }
   },
   "outputs": [],
   "source": [
    "# Spec Augmentation\n",
    "# Reference: https://www.kaggle.com/davids1992/specaugment-quick-implementation\n",
    "NUM_MASK = 2\n",
    "FREQ_MASKING_MAX_PERCENTAGE = 0.15\n",
    "TIME_MASKING_MAX_PERCENTAGE = 0.30"
   ]
  },
  {
   "cell_type": "code",
   "execution_count": 5,
   "metadata": {
    "ExecuteTime": {
     "end_time": "2019-05-23T16:35:09.509293Z",
     "start_time": "2019-05-23T16:35:09.506574Z"
    }
   },
   "outputs": [],
   "source": [
    "# Dataset Path\n",
    "COMPETITION_DATASET_NAME = \"freesound-audio-tagging-2019\"\n",
    "PREPROCESSED_DATASET_NAME = \"fat2019_prep_mels1\""
   ]
  },
  {
   "cell_type": "code",
   "execution_count": 6,
   "metadata": {
    "ExecuteTime": {
     "end_time": "2019-05-23T16:35:18.993114Z",
     "start_time": "2019-05-23T16:35:18.990239Z"
    }
   },
   "outputs": [],
   "source": [
    "# Training\n",
    "BATCH_SIZE = 32\n",
    "ACTIVATION = 'linear' \n",
    "LOSS = 'BCEwithLogits' \n",
    "LR = 4e-4\n",
    "PATIENCE = 9 #ReduceOnPlateau option\n",
    "LR_FACTOR = 0.75 #ReduceOnPlateau option"
   ]
  },
  {
   "cell_type": "code",
   "execution_count": 7,
   "metadata": {
    "ExecuteTime": {
     "end_time": "2019-05-23T16:35:35.751667Z",
     "start_time": "2019-05-23T16:35:35.748519Z"
    }
   },
   "outputs": [],
   "source": [
    "# Other configs\n",
    "SEED = 520\n",
    "SIZE=128\n",
    "EPOCHS = [303, 0, 0]\n",
    "TTA = [19, 0, 0]\n",
    "checkpoint_file = ['model_best1.h5', 'model_best2.h5', 'model_best3.h5']\n",
    "VALID_AUGMENT = False\n",
    "USE_MIXUP = True\n",
    "MIXUP_PROB = 0.25\n",
    "\n",
    "# No K-Fold implementation yet\n",
    "# NUM_K_FOLDS = 5 # how many folds (K) you gonna splits\n",
    "# NUM_MODEL_RUN = 5 # how many models (<= K) you gonna train [e.g. set to 1 for a simple train/test split]"
   ]
  },
  {
   "cell_type": "markdown",
   "metadata": {},
   "source": [
    "## Import"
   ]
  },
  {
   "cell_type": "code",
   "execution_count": 8,
   "metadata": {
    "ExecuteTime": {
     "end_time": "2019-05-23T17:27:29.458519Z",
     "start_time": "2019-05-23T17:27:29.452612Z"
    }
   },
   "outputs": [
    {
     "name": "stderr",
     "output_type": "stream",
     "text": [
      "Using TensorFlow backend.\n"
     ]
    }
   ],
   "source": [
    "# Default\n",
    "import gc\n",
    "import os\n",
    "import random\n",
    "import matplotlib.pyplot as plt\n",
    "import numpy as np\n",
    "import pandas as pd\n",
    "import pickle\n",
    "import librosa\n",
    "import sklearn.metrics\n",
    "\n",
    "from fastprogress import master_bar, progress_bar\n",
    "from functools import partial\n",
    "from imgaug import augmenters as iaa\n",
    "from inspect import currentframe\n",
    "from numba import jit\n",
    "from pathlib import Path\n",
    "from PIL import Image\n",
    "from psutil import cpu_count\n",
    "from sklearn.model_selection import train_test_split\n",
    "from sklearn.utils import shuffle\n",
    "\n",
    "# torch\n",
    "import torch\n",
    "import torch.nn as nn\n",
    "import torch.nn.functional as F\n",
    "from torch.optim import Adam\n",
    "from torch.optim.lr_scheduler import CosineAnnealingLR\n",
    "from torch.utils.data import Dataset, DataLoader\n",
    "from torchvision.transforms import transforms\n",
    "\n",
    "# Keras\n",
    "import tensorflow as tf\n",
    "import keras\n",
    "from keras import backend as K\n",
    "from keras import metrics\n",
    "from keras.applications.mobilenet_v2 import preprocess_input as preprocess_mobile\n",
    "from keras.callbacks import (ModelCheckpoint, LearningRateScheduler, EarlyStopping, ReduceLROnPlateau,CSVLogger)\n",
    "from keras.layers import *\n",
    "from keras.models import Sequential, load_model, Model\n",
    "from keras.optimizers import Adam \n",
    "from keras.utils import Sequence"
   ]
  },
  {
   "cell_type": "markdown",
   "metadata": {},
   "source": [
    "## Util"
   ]
  },
  {
   "cell_type": "code",
   "execution_count": 9,
   "metadata": {
    "ExecuteTime": {
     "end_time": "2019-05-23T15:50:54.872616Z",
     "start_time": "2019-05-23T15:50:54.868322Z"
    }
   },
   "outputs": [],
   "source": [
    "# Utility Cell\n",
    "def chkprint(*args):\n",
    "    def view_dir(dictionary):\n",
    "        string = \"\\n========\\n\"\n",
    "        for key, val in dictionary.items():\n",
    "             string += key + \":\\t\" + str(val) + \"\\n\"\n",
    "        string += \"--------------\\n\"\n",
    "        return string\n",
    "    names = {id(v):k for k,v in currentframe().f_back.f_locals.items()}\n",
    "    out =\"\"\n",
    "    for arg in args:\n",
    "        attr_name = names.get(id(arg))\n",
    "        out += attr_name + \": \"\n",
    "        if type(arg) == dict:\n",
    "            out += view_dir(arg)\n",
    "        else:\n",
    "            out += str(arg) + \"\\n\"\n",
    "    print(out)"
   ]
  },
  {
   "cell_type": "code",
   "execution_count": 10,
   "metadata": {
    "ExecuteTime": {
     "end_time": "2019-05-23T16:59:30.651804Z",
     "start_time": "2019-05-23T16:59:30.648666Z"
    }
   },
   "outputs": [],
   "source": [
    "def save_as_pkl_binary(obj, filename):\n",
    "    \"\"\"Save object as pickle binary file.\n",
    "    Thanks to https://stackoverflow.com/questions/19201290/how-to-save-a-dictionary-to-a-file/32216025\n",
    "    \"\"\"\n",
    "    with open(filename, 'wb') as f:\n",
    "        pickle.dump(obj, f, pickle.HIGHEST_PROTOCOL)"
   ]
  },
  {
   "cell_type": "code",
   "execution_count": 11,
   "metadata": {
    "ExecuteTime": {
     "end_time": "2019-05-23T16:59:39.264064Z",
     "start_time": "2019-05-23T16:59:39.260948Z"
    }
   },
   "outputs": [],
   "source": [
    "def load_pkl(filename):\n",
    "    \"\"\"Load pickle object from file.\"\"\"\n",
    "    with open(filename, 'rb') as f:\n",
    "        return pickle.load(f)"
   ]
  },
  {
   "cell_type": "code",
   "execution_count": 12,
   "metadata": {
    "ExecuteTime": {
     "end_time": "2019-05-23T15:50:54.877407Z",
     "start_time": "2019-05-23T15:50:54.874794Z"
    }
   },
   "outputs": [],
   "source": [
    "IS_KERNEL = (\"local\" in os.uname()[1]) is False"
   ]
  },
  {
   "cell_type": "markdown",
   "metadata": {},
   "source": [
    "## Path"
   ]
  },
  {
   "cell_type": "code",
   "execution_count": 13,
   "metadata": {
    "ExecuteTime": {
     "end_time": "2019-05-23T15:50:54.882215Z",
     "start_time": "2019-05-23T15:50:54.879377Z"
    }
   },
   "outputs": [],
   "source": [
    "ROOT_PATH = Path(\"..\") if IS_KERNEL else  Path(\".\").absolute().parents[0]\n",
    "dataset_dir = ROOT_PATH / \"input\" / COMPETITION_DATASET_NAME\n",
    "preprocessed_dir = ROOT_PATH / \"input\" / PREPROCESSED_DATASET_NAME"
   ]
  },
  {
   "cell_type": "code",
   "execution_count": 14,
   "metadata": {
    "ExecuteTime": {
     "end_time": "2019-05-23T15:50:55.921799Z",
     "start_time": "2019-05-23T15:50:55.918876Z"
    }
   },
   "outputs": [],
   "source": [
    "HEAD = \"debug_\" if DEBUG_MODE else \"\"\n",
    "CURATED_DIR = HEAD + \"train_curated\"\n",
    "NOISY_DIR = HEAD + \"train_noisy\"\n",
    "TEST_DIR = HEAD + \"test\"\n",
    "SAMPLE_SUBMISSION = HEAD + \"sample_submission\""
   ]
  },
  {
   "cell_type": "code",
   "execution_count": 15,
   "metadata": {
    "ExecuteTime": {
     "end_time": "2019-05-23T16:30:52.069654Z",
     "start_time": "2019-05-23T16:30:52.065403Z"
    }
   },
   "outputs": [],
   "source": [
    "csvs = {\n",
    "    'train_curated': dataset_dir / '{}.csv'.format(CURATED_DIR),\n",
    "    'train_noisy': dataset_dir / '{}.csv'.format(NOISY_DIR),\n",
    "    'clean_train_noisy': preprocessed_dir / 'trn_noisy_best50s.csv',\n",
    "    'sample_submission': dataset_dir / '{}.csv'.format(SAMPLE_SUBMISSION),\n",
    "}\n",
    "\n",
    "dataset = {\n",
    "    'train_curated': dataset_dir / CURATED_DIR,\n",
    "    'train_noisy': dataset_dir / NOISY_DIR,\n",
    "    'test': dataset_dir / TEST_DIR,\n",
    "}\n",
    "\n",
    "mels = {\n",
    "    'train_curated': preprocessed_dir / 'mels_train_curated.pkl',\n",
    "    'train_noisy': preprocessed_dir / 'mels_trn_noisy_best50s.pkl',\n",
    "}"
   ]
  },
  {
   "cell_type": "code",
   "execution_count": 16,
   "metadata": {
    "ExecuteTime": {
     "end_time": "2019-05-23T15:50:56.971665Z",
     "start_time": "2019-05-23T15:50:56.967811Z"
    },
    "scrolled": true
   },
   "outputs": [
    {
     "name": "stdout",
     "output_type": "stream",
     "text": [
      "dataset_dir: ../input/freesound-audio-tagging-2019\n",
      "preprocessed_dir: ../input/fat2019_prep_mels1\n",
      "HEAD: \n",
      "csvs: \n",
      "========\n",
      "train_curated:\t../input/freesound-audio-tagging-2019/train_curated.csv\n",
      "train_noisy:\t../input/freesound-audio-tagging-2019/train_noisy.csv\n",
      "clean_train_noisy:\t../input/fat2019_prep_mels1/trn_noisy_best50s.csv\n",
      "sample_submission:\t../input/freesound-audio-tagging-2019/sample_submission.csv\n",
      "--------------\n",
      "dataset: \n",
      "========\n",
      "train_curated:\t../input/freesound-audio-tagging-2019/train_curated\n",
      "train_noisy:\t../input/freesound-audio-tagging-2019/train_noisy\n",
      "test:\t../input/freesound-audio-tagging-2019/test\n",
      "--------------\n",
      "mels: \n",
      "========\n",
      "train_curated:\t../input/fat2019_prep_mels1/mels_train_curated.pkl\n",
      "train_noisy:\t../input/fat2019_prep_mels1/mels_trn_noisy_best50s.pkl\n",
      "--------------\n",
      "\n"
     ]
    }
   ],
   "source": [
    "# Utility Cell\n",
    "chkprint(dataset_dir, preprocessed_dir, HEAD, csvs, dataset, mels)"
   ]
  },
  {
   "cell_type": "markdown",
   "metadata": {},
   "source": [
    "## Initialization"
   ]
  },
  {
   "cell_type": "code",
   "execution_count": 17,
   "metadata": {
    "ExecuteTime": {
     "end_time": "2019-05-23T15:50:58.129471Z",
     "start_time": "2019-05-23T15:50:58.118695Z"
    }
   },
   "outputs": [],
   "source": [
    "def seed_everything(seed):\n",
    "    random.seed(seed)\n",
    "    os.environ['PYTHONHASHSEED'] = str(seed)\n",
    "    np.random.seed(seed)\n",
    "    torch.manual_seed(seed)\n",
    "    torch.cuda.manual_seed(seed)\n",
    "    torch.backends.cudnn.deterministic = True\n",
    "\n",
    "seed_everything(SEED)"
   ]
  },
  {
   "cell_type": "code",
   "execution_count": 18,
   "metadata": {
    "ExecuteTime": {
     "end_time": "2019-05-23T15:50:58.529451Z",
     "start_time": "2019-05-23T15:50:58.526713Z"
    }
   },
   "outputs": [],
   "source": [
    "DataLoader = partial(DataLoader, num_workers=cpu_count())\n",
    "device = torch.device(\"cuda:0\" if torch.cuda.is_available() else \"cpu\")"
   ]
  },
  {
   "cell_type": "markdown",
   "metadata": {},
   "source": [
    "## Loading"
   ]
  },
  {
   "cell_type": "code",
   "execution_count": 19,
   "metadata": {
    "ExecuteTime": {
     "end_time": "2019-05-23T15:51:02.390785Z",
     "start_time": "2019-05-23T15:51:02.345690Z"
    }
   },
   "outputs": [],
   "source": [
    "train_curated = pd.read_csv(csvs['train_curated'])\n",
    "noisy_name = \"clean_train_noisy\" if USE_CLEAN_NOISY else \"train_noisy\"\n",
    "train_noisy = pd.read_csv(csvs[noisy_name])\n",
    "train_df = train_curated\n",
    "if CURATED_ONLY is False:\n",
    "    train_df = pd.concat([train_curated, train_noisy], sort=True, ignore_index=True)\n",
    "test_df = pd.read_csv(csvs['sample_submission'])\n",
    "labels = test_df.columns[1:].tolist()\n",
    "num_classes = len(labels)"
   ]
  },
  {
   "cell_type": "code",
   "execution_count": 20,
   "metadata": {
    "ExecuteTime": {
     "end_time": "2019-05-23T16:33:23.762317Z",
     "start_time": "2019-05-23T16:33:23.730416Z"
    },
    "scrolled": true
   },
   "outputs": [
    {
     "data": {
      "text/html": [
       "<div>\n",
       "<style scoped>\n",
       "    .dataframe tbody tr th:only-of-type {\n",
       "        vertical-align: middle;\n",
       "    }\n",
       "\n",
       "    .dataframe tbody tr th {\n",
       "        vertical-align: top;\n",
       "    }\n",
       "\n",
       "    .dataframe thead th {\n",
       "        text-align: right;\n",
       "    }\n",
       "</style>\n",
       "<table border=\"1\" class=\"dataframe\">\n",
       "  <thead>\n",
       "    <tr style=\"text-align: right;\">\n",
       "      <th></th>\n",
       "      <th>fname</th>\n",
       "      <th>labels</th>\n",
       "    </tr>\n",
       "  </thead>\n",
       "  <tbody>\n",
       "    <tr>\n",
       "      <th>0</th>\n",
       "      <td>0006ae4e.wav</td>\n",
       "      <td>Bark</td>\n",
       "    </tr>\n",
       "    <tr>\n",
       "      <th>1</th>\n",
       "      <td>0019ef41.wav</td>\n",
       "      <td>Raindrop</td>\n",
       "    </tr>\n",
       "    <tr>\n",
       "      <th>2</th>\n",
       "      <td>001ec0ad.wav</td>\n",
       "      <td>Finger_snapping</td>\n",
       "    </tr>\n",
       "    <tr>\n",
       "      <th>3</th>\n",
       "      <td>0026c7cb.wav</td>\n",
       "      <td>Run</td>\n",
       "    </tr>\n",
       "    <tr>\n",
       "      <th>4</th>\n",
       "      <td>0026f116.wav</td>\n",
       "      <td>Finger_snapping</td>\n",
       "    </tr>\n",
       "  </tbody>\n",
       "</table>\n",
       "</div>"
      ],
      "text/plain": [
       "          fname           labels\n",
       "0  0006ae4e.wav             Bark\n",
       "1  0019ef41.wav         Raindrop\n",
       "2  001ec0ad.wav  Finger_snapping\n",
       "3  0026c7cb.wav              Run\n",
       "4  0026f116.wav  Finger_snapping"
      ]
     },
     "metadata": {},
     "output_type": "display_data"
    },
    {
     "data": {
      "text/html": [
       "<div>\n",
       "<style scoped>\n",
       "    .dataframe tbody tr th:only-of-type {\n",
       "        vertical-align: middle;\n",
       "    }\n",
       "\n",
       "    .dataframe tbody tr th {\n",
       "        vertical-align: top;\n",
       "    }\n",
       "\n",
       "    .dataframe thead th {\n",
       "        text-align: right;\n",
       "    }\n",
       "</style>\n",
       "<table border=\"1\" class=\"dataframe\">\n",
       "  <thead>\n",
       "    <tr style=\"text-align: right;\">\n",
       "      <th></th>\n",
       "      <th>fname</th>\n",
       "      <th>labels</th>\n",
       "      <th>singled</th>\n",
       "    </tr>\n",
       "  </thead>\n",
       "  <tbody>\n",
       "    <tr>\n",
       "      <th>0</th>\n",
       "      <td>35688e71.wav</td>\n",
       "      <td>Bathtub_(filling_or_washing)</td>\n",
       "      <td>True</td>\n",
       "    </tr>\n",
       "    <tr>\n",
       "      <th>1</th>\n",
       "      <td>60d25862.wav</td>\n",
       "      <td>Bathtub_(filling_or_washing)</td>\n",
       "      <td>True</td>\n",
       "    </tr>\n",
       "    <tr>\n",
       "      <th>2</th>\n",
       "      <td>c0f6fce9.wav</td>\n",
       "      <td>Bathtub_(filling_or_washing)</td>\n",
       "      <td>True</td>\n",
       "    </tr>\n",
       "    <tr>\n",
       "      <th>3</th>\n",
       "      <td>f3221561.wav</td>\n",
       "      <td>Bathtub_(filling_or_washing)</td>\n",
       "      <td>True</td>\n",
       "    </tr>\n",
       "    <tr>\n",
       "      <th>4</th>\n",
       "      <td>b2af1dc9.wav</td>\n",
       "      <td>Bathtub_(filling_or_washing)</td>\n",
       "      <td>True</td>\n",
       "    </tr>\n",
       "  </tbody>\n",
       "</table>\n",
       "</div>"
      ],
      "text/plain": [
       "          fname                        labels  singled\n",
       "0  35688e71.wav  Bathtub_(filling_or_washing)     True\n",
       "1  60d25862.wav  Bathtub_(filling_or_washing)     True\n",
       "2  c0f6fce9.wav  Bathtub_(filling_or_washing)     True\n",
       "3  f3221561.wav  Bathtub_(filling_or_washing)     True\n",
       "4  b2af1dc9.wav  Bathtub_(filling_or_washing)     True"
      ]
     },
     "metadata": {},
     "output_type": "display_data"
    },
    {
     "data": {
      "text/html": [
       "<div>\n",
       "<style scoped>\n",
       "    .dataframe tbody tr th:only-of-type {\n",
       "        vertical-align: middle;\n",
       "    }\n",
       "\n",
       "    .dataframe tbody tr th {\n",
       "        vertical-align: top;\n",
       "    }\n",
       "\n",
       "    .dataframe thead th {\n",
       "        text-align: right;\n",
       "    }\n",
       "</style>\n",
       "<table border=\"1\" class=\"dataframe\">\n",
       "  <thead>\n",
       "    <tr style=\"text-align: right;\">\n",
       "      <th></th>\n",
       "      <th>fname</th>\n",
       "      <th>Accelerating_and_revving_and_vroom</th>\n",
       "      <th>Accordion</th>\n",
       "      <th>Acoustic_guitar</th>\n",
       "      <th>Applause</th>\n",
       "      <th>Bark</th>\n",
       "      <th>Bass_drum</th>\n",
       "      <th>Bass_guitar</th>\n",
       "      <th>Bathtub_(filling_or_washing)</th>\n",
       "      <th>Bicycle_bell</th>\n",
       "      <th>Burping_and_eructation</th>\n",
       "      <th>Bus</th>\n",
       "      <th>Buzz</th>\n",
       "      <th>Car_passing_by</th>\n",
       "      <th>Cheering</th>\n",
       "      <th>Chewing_and_mastication</th>\n",
       "      <th>Child_speech_and_kid_speaking</th>\n",
       "      <th>Chink_and_clink</th>\n",
       "      <th>Chirp_and_tweet</th>\n",
       "      <th>Church_bell</th>\n",
       "      <th>Clapping</th>\n",
       "      <th>Computer_keyboard</th>\n",
       "      <th>Crackle</th>\n",
       "      <th>Cricket</th>\n",
       "      <th>Crowd</th>\n",
       "      <th>Cupboard_open_or_close</th>\n",
       "      <th>Cutlery_and_silverware</th>\n",
       "      <th>Dishes_and_pots_and_pans</th>\n",
       "      <th>Drawer_open_or_close</th>\n",
       "      <th>Drip</th>\n",
       "      <th>Electric_guitar</th>\n",
       "      <th>Fart</th>\n",
       "      <th>Female_singing</th>\n",
       "      <th>Female_speech_and_woman_speaking</th>\n",
       "      <th>Fill_(with_liquid)</th>\n",
       "      <th>Finger_snapping</th>\n",
       "      <th>Frying_(food)</th>\n",
       "      <th>Gasp</th>\n",
       "      <th>Glockenspiel</th>\n",
       "      <th>Gong</th>\n",
       "      <th>...</th>\n",
       "      <th>Harmonica</th>\n",
       "      <th>Hi-hat</th>\n",
       "      <th>Hiss</th>\n",
       "      <th>Keys_jangling</th>\n",
       "      <th>Knock</th>\n",
       "      <th>Male_singing</th>\n",
       "      <th>Male_speech_and_man_speaking</th>\n",
       "      <th>Marimba_and_xylophone</th>\n",
       "      <th>Mechanical_fan</th>\n",
       "      <th>Meow</th>\n",
       "      <th>Microwave_oven</th>\n",
       "      <th>Motorcycle</th>\n",
       "      <th>Printer</th>\n",
       "      <th>Purr</th>\n",
       "      <th>Race_car_and_auto_racing</th>\n",
       "      <th>Raindrop</th>\n",
       "      <th>Run</th>\n",
       "      <th>Scissors</th>\n",
       "      <th>Screaming</th>\n",
       "      <th>Shatter</th>\n",
       "      <th>Sigh</th>\n",
       "      <th>Sink_(filling_or_washing)</th>\n",
       "      <th>Skateboard</th>\n",
       "      <th>Slam</th>\n",
       "      <th>Sneeze</th>\n",
       "      <th>Squeak</th>\n",
       "      <th>Stream</th>\n",
       "      <th>Strum</th>\n",
       "      <th>Tap</th>\n",
       "      <th>Tick-tock</th>\n",
       "      <th>Toilet_flush</th>\n",
       "      <th>Traffic_noise_and_roadway_noise</th>\n",
       "      <th>Trickle_and_dribble</th>\n",
       "      <th>Walk_and_footsteps</th>\n",
       "      <th>Water_tap_and_faucet</th>\n",
       "      <th>Waves_and_surf</th>\n",
       "      <th>Whispering</th>\n",
       "      <th>Writing</th>\n",
       "      <th>Yell</th>\n",
       "      <th>Zipper_(clothing)</th>\n",
       "    </tr>\n",
       "  </thead>\n",
       "  <tbody>\n",
       "    <tr>\n",
       "      <th>0</th>\n",
       "      <td>000ccb97.wav</td>\n",
       "      <td>0</td>\n",
       "      <td>0</td>\n",
       "      <td>0</td>\n",
       "      <td>0</td>\n",
       "      <td>0</td>\n",
       "      <td>0</td>\n",
       "      <td>0</td>\n",
       "      <td>0</td>\n",
       "      <td>0</td>\n",
       "      <td>0</td>\n",
       "      <td>0</td>\n",
       "      <td>0</td>\n",
       "      <td>0</td>\n",
       "      <td>0</td>\n",
       "      <td>0</td>\n",
       "      <td>0</td>\n",
       "      <td>0</td>\n",
       "      <td>0</td>\n",
       "      <td>0</td>\n",
       "      <td>0</td>\n",
       "      <td>0</td>\n",
       "      <td>0</td>\n",
       "      <td>0</td>\n",
       "      <td>0</td>\n",
       "      <td>0</td>\n",
       "      <td>0</td>\n",
       "      <td>0</td>\n",
       "      <td>0</td>\n",
       "      <td>0</td>\n",
       "      <td>0</td>\n",
       "      <td>0</td>\n",
       "      <td>0</td>\n",
       "      <td>0</td>\n",
       "      <td>0</td>\n",
       "      <td>0</td>\n",
       "      <td>0</td>\n",
       "      <td>0</td>\n",
       "      <td>0</td>\n",
       "      <td>0</td>\n",
       "      <td>...</td>\n",
       "      <td>0</td>\n",
       "      <td>0</td>\n",
       "      <td>0</td>\n",
       "      <td>0</td>\n",
       "      <td>0</td>\n",
       "      <td>0</td>\n",
       "      <td>0</td>\n",
       "      <td>0</td>\n",
       "      <td>0</td>\n",
       "      <td>0</td>\n",
       "      <td>0</td>\n",
       "      <td>0</td>\n",
       "      <td>0</td>\n",
       "      <td>0</td>\n",
       "      <td>0</td>\n",
       "      <td>0</td>\n",
       "      <td>0</td>\n",
       "      <td>0</td>\n",
       "      <td>0</td>\n",
       "      <td>0</td>\n",
       "      <td>0</td>\n",
       "      <td>0</td>\n",
       "      <td>0</td>\n",
       "      <td>0</td>\n",
       "      <td>0</td>\n",
       "      <td>0</td>\n",
       "      <td>0</td>\n",
       "      <td>0</td>\n",
       "      <td>0</td>\n",
       "      <td>0</td>\n",
       "      <td>0</td>\n",
       "      <td>0</td>\n",
       "      <td>0</td>\n",
       "      <td>0</td>\n",
       "      <td>0</td>\n",
       "      <td>0</td>\n",
       "      <td>0</td>\n",
       "      <td>0</td>\n",
       "      <td>0</td>\n",
       "      <td>0</td>\n",
       "    </tr>\n",
       "    <tr>\n",
       "      <th>1</th>\n",
       "      <td>0012633b.wav</td>\n",
       "      <td>0</td>\n",
       "      <td>0</td>\n",
       "      <td>0</td>\n",
       "      <td>0</td>\n",
       "      <td>0</td>\n",
       "      <td>0</td>\n",
       "      <td>0</td>\n",
       "      <td>0</td>\n",
       "      <td>0</td>\n",
       "      <td>0</td>\n",
       "      <td>0</td>\n",
       "      <td>0</td>\n",
       "      <td>0</td>\n",
       "      <td>0</td>\n",
       "      <td>0</td>\n",
       "      <td>0</td>\n",
       "      <td>0</td>\n",
       "      <td>0</td>\n",
       "      <td>0</td>\n",
       "      <td>0</td>\n",
       "      <td>0</td>\n",
       "      <td>0</td>\n",
       "      <td>0</td>\n",
       "      <td>0</td>\n",
       "      <td>0</td>\n",
       "      <td>0</td>\n",
       "      <td>0</td>\n",
       "      <td>0</td>\n",
       "      <td>0</td>\n",
       "      <td>0</td>\n",
       "      <td>0</td>\n",
       "      <td>0</td>\n",
       "      <td>0</td>\n",
       "      <td>0</td>\n",
       "      <td>0</td>\n",
       "      <td>0</td>\n",
       "      <td>0</td>\n",
       "      <td>0</td>\n",
       "      <td>0</td>\n",
       "      <td>...</td>\n",
       "      <td>0</td>\n",
       "      <td>0</td>\n",
       "      <td>0</td>\n",
       "      <td>0</td>\n",
       "      <td>0</td>\n",
       "      <td>0</td>\n",
       "      <td>0</td>\n",
       "      <td>0</td>\n",
       "      <td>0</td>\n",
       "      <td>0</td>\n",
       "      <td>0</td>\n",
       "      <td>0</td>\n",
       "      <td>0</td>\n",
       "      <td>0</td>\n",
       "      <td>0</td>\n",
       "      <td>0</td>\n",
       "      <td>0</td>\n",
       "      <td>0</td>\n",
       "      <td>0</td>\n",
       "      <td>0</td>\n",
       "      <td>0</td>\n",
       "      <td>0</td>\n",
       "      <td>0</td>\n",
       "      <td>0</td>\n",
       "      <td>0</td>\n",
       "      <td>0</td>\n",
       "      <td>0</td>\n",
       "      <td>0</td>\n",
       "      <td>0</td>\n",
       "      <td>0</td>\n",
       "      <td>0</td>\n",
       "      <td>0</td>\n",
       "      <td>0</td>\n",
       "      <td>0</td>\n",
       "      <td>0</td>\n",
       "      <td>0</td>\n",
       "      <td>0</td>\n",
       "      <td>0</td>\n",
       "      <td>0</td>\n",
       "      <td>0</td>\n",
       "    </tr>\n",
       "    <tr>\n",
       "      <th>2</th>\n",
       "      <td>001ed5f1.wav</td>\n",
       "      <td>0</td>\n",
       "      <td>0</td>\n",
       "      <td>0</td>\n",
       "      <td>0</td>\n",
       "      <td>0</td>\n",
       "      <td>0</td>\n",
       "      <td>0</td>\n",
       "      <td>0</td>\n",
       "      <td>0</td>\n",
       "      <td>0</td>\n",
       "      <td>0</td>\n",
       "      <td>0</td>\n",
       "      <td>0</td>\n",
       "      <td>0</td>\n",
       "      <td>0</td>\n",
       "      <td>0</td>\n",
       "      <td>0</td>\n",
       "      <td>0</td>\n",
       "      <td>0</td>\n",
       "      <td>0</td>\n",
       "      <td>0</td>\n",
       "      <td>0</td>\n",
       "      <td>0</td>\n",
       "      <td>0</td>\n",
       "      <td>0</td>\n",
       "      <td>0</td>\n",
       "      <td>0</td>\n",
       "      <td>0</td>\n",
       "      <td>0</td>\n",
       "      <td>0</td>\n",
       "      <td>0</td>\n",
       "      <td>0</td>\n",
       "      <td>0</td>\n",
       "      <td>0</td>\n",
       "      <td>0</td>\n",
       "      <td>0</td>\n",
       "      <td>0</td>\n",
       "      <td>0</td>\n",
       "      <td>0</td>\n",
       "      <td>...</td>\n",
       "      <td>0</td>\n",
       "      <td>0</td>\n",
       "      <td>0</td>\n",
       "      <td>0</td>\n",
       "      <td>0</td>\n",
       "      <td>0</td>\n",
       "      <td>0</td>\n",
       "      <td>0</td>\n",
       "      <td>0</td>\n",
       "      <td>0</td>\n",
       "      <td>0</td>\n",
       "      <td>0</td>\n",
       "      <td>0</td>\n",
       "      <td>0</td>\n",
       "      <td>0</td>\n",
       "      <td>0</td>\n",
       "      <td>0</td>\n",
       "      <td>0</td>\n",
       "      <td>0</td>\n",
       "      <td>0</td>\n",
       "      <td>0</td>\n",
       "      <td>0</td>\n",
       "      <td>0</td>\n",
       "      <td>0</td>\n",
       "      <td>0</td>\n",
       "      <td>0</td>\n",
       "      <td>0</td>\n",
       "      <td>0</td>\n",
       "      <td>0</td>\n",
       "      <td>0</td>\n",
       "      <td>0</td>\n",
       "      <td>0</td>\n",
       "      <td>0</td>\n",
       "      <td>0</td>\n",
       "      <td>0</td>\n",
       "      <td>0</td>\n",
       "      <td>0</td>\n",
       "      <td>0</td>\n",
       "      <td>0</td>\n",
       "      <td>0</td>\n",
       "    </tr>\n",
       "    <tr>\n",
       "      <th>3</th>\n",
       "      <td>00294be0.wav</td>\n",
       "      <td>0</td>\n",
       "      <td>0</td>\n",
       "      <td>0</td>\n",
       "      <td>0</td>\n",
       "      <td>0</td>\n",
       "      <td>0</td>\n",
       "      <td>0</td>\n",
       "      <td>0</td>\n",
       "      <td>0</td>\n",
       "      <td>0</td>\n",
       "      <td>0</td>\n",
       "      <td>0</td>\n",
       "      <td>0</td>\n",
       "      <td>0</td>\n",
       "      <td>0</td>\n",
       "      <td>0</td>\n",
       "      <td>0</td>\n",
       "      <td>0</td>\n",
       "      <td>0</td>\n",
       "      <td>0</td>\n",
       "      <td>0</td>\n",
       "      <td>0</td>\n",
       "      <td>0</td>\n",
       "      <td>0</td>\n",
       "      <td>0</td>\n",
       "      <td>0</td>\n",
       "      <td>0</td>\n",
       "      <td>0</td>\n",
       "      <td>0</td>\n",
       "      <td>0</td>\n",
       "      <td>0</td>\n",
       "      <td>0</td>\n",
       "      <td>0</td>\n",
       "      <td>0</td>\n",
       "      <td>0</td>\n",
       "      <td>0</td>\n",
       "      <td>0</td>\n",
       "      <td>0</td>\n",
       "      <td>0</td>\n",
       "      <td>...</td>\n",
       "      <td>0</td>\n",
       "      <td>0</td>\n",
       "      <td>0</td>\n",
       "      <td>0</td>\n",
       "      <td>0</td>\n",
       "      <td>0</td>\n",
       "      <td>0</td>\n",
       "      <td>0</td>\n",
       "      <td>0</td>\n",
       "      <td>0</td>\n",
       "      <td>0</td>\n",
       "      <td>0</td>\n",
       "      <td>0</td>\n",
       "      <td>0</td>\n",
       "      <td>0</td>\n",
       "      <td>0</td>\n",
       "      <td>0</td>\n",
       "      <td>0</td>\n",
       "      <td>0</td>\n",
       "      <td>0</td>\n",
       "      <td>0</td>\n",
       "      <td>0</td>\n",
       "      <td>0</td>\n",
       "      <td>0</td>\n",
       "      <td>0</td>\n",
       "      <td>0</td>\n",
       "      <td>0</td>\n",
       "      <td>0</td>\n",
       "      <td>0</td>\n",
       "      <td>0</td>\n",
       "      <td>0</td>\n",
       "      <td>0</td>\n",
       "      <td>0</td>\n",
       "      <td>0</td>\n",
       "      <td>0</td>\n",
       "      <td>0</td>\n",
       "      <td>0</td>\n",
       "      <td>0</td>\n",
       "      <td>0</td>\n",
       "      <td>0</td>\n",
       "    </tr>\n",
       "    <tr>\n",
       "      <th>4</th>\n",
       "      <td>003fde7a.wav</td>\n",
       "      <td>0</td>\n",
       "      <td>0</td>\n",
       "      <td>0</td>\n",
       "      <td>0</td>\n",
       "      <td>0</td>\n",
       "      <td>0</td>\n",
       "      <td>0</td>\n",
       "      <td>0</td>\n",
       "      <td>0</td>\n",
       "      <td>0</td>\n",
       "      <td>0</td>\n",
       "      <td>0</td>\n",
       "      <td>0</td>\n",
       "      <td>0</td>\n",
       "      <td>0</td>\n",
       "      <td>0</td>\n",
       "      <td>0</td>\n",
       "      <td>0</td>\n",
       "      <td>0</td>\n",
       "      <td>0</td>\n",
       "      <td>0</td>\n",
       "      <td>0</td>\n",
       "      <td>0</td>\n",
       "      <td>0</td>\n",
       "      <td>0</td>\n",
       "      <td>0</td>\n",
       "      <td>0</td>\n",
       "      <td>0</td>\n",
       "      <td>0</td>\n",
       "      <td>0</td>\n",
       "      <td>0</td>\n",
       "      <td>0</td>\n",
       "      <td>0</td>\n",
       "      <td>0</td>\n",
       "      <td>0</td>\n",
       "      <td>0</td>\n",
       "      <td>0</td>\n",
       "      <td>0</td>\n",
       "      <td>0</td>\n",
       "      <td>...</td>\n",
       "      <td>0</td>\n",
       "      <td>0</td>\n",
       "      <td>0</td>\n",
       "      <td>0</td>\n",
       "      <td>0</td>\n",
       "      <td>0</td>\n",
       "      <td>0</td>\n",
       "      <td>0</td>\n",
       "      <td>0</td>\n",
       "      <td>0</td>\n",
       "      <td>0</td>\n",
       "      <td>0</td>\n",
       "      <td>0</td>\n",
       "      <td>0</td>\n",
       "      <td>0</td>\n",
       "      <td>0</td>\n",
       "      <td>0</td>\n",
       "      <td>0</td>\n",
       "      <td>0</td>\n",
       "      <td>0</td>\n",
       "      <td>0</td>\n",
       "      <td>0</td>\n",
       "      <td>0</td>\n",
       "      <td>0</td>\n",
       "      <td>0</td>\n",
       "      <td>0</td>\n",
       "      <td>0</td>\n",
       "      <td>0</td>\n",
       "      <td>0</td>\n",
       "      <td>0</td>\n",
       "      <td>0</td>\n",
       "      <td>0</td>\n",
       "      <td>0</td>\n",
       "      <td>0</td>\n",
       "      <td>0</td>\n",
       "      <td>0</td>\n",
       "      <td>0</td>\n",
       "      <td>0</td>\n",
       "      <td>0</td>\n",
       "      <td>0</td>\n",
       "    </tr>\n",
       "  </tbody>\n",
       "</table>\n",
       "</div>"
      ],
      "text/plain": [
       "          fname        ...          Zipper_(clothing)\n",
       "0  000ccb97.wav        ...                          0\n",
       "1  0012633b.wav        ...                          0\n",
       "2  001ed5f1.wav        ...                          0\n",
       "3  00294be0.wav        ...                          0\n",
       "4  003fde7a.wav        ...                          0\n",
       "\n",
       "[5 rows x 81 columns]"
      ]
     },
     "metadata": {},
     "output_type": "display_data"
    },
    {
     "data": {
      "text/plain": [
       "['Accelerating_and_revving_and_vroom',\n",
       " 'Accordion',\n",
       " 'Acoustic_guitar',\n",
       " 'Applause',\n",
       " 'Bark',\n",
       " 'Bass_drum',\n",
       " 'Bass_guitar',\n",
       " 'Bathtub_(filling_or_washing)',\n",
       " 'Bicycle_bell',\n",
       " 'Burping_and_eructation']"
      ]
     },
     "metadata": {},
     "output_type": "display_data"
    },
    {
     "name": "stdout",
     "output_type": "stream",
     "text": [
      "num_classes: 80\n",
      "\n"
     ]
    }
   ],
   "source": [
    "# Utility Cell\n",
    "display(train_curated.head(5))\n",
    "display(train_noisy.head(5))\n",
    "display(test_df.head(5))\n",
    "display(labels[:10])\n",
    "chkprint(num_classes)"
   ]
  },
  {
   "cell_type": "code",
   "execution_count": 21,
   "metadata": {
    "ExecuteTime": {
     "end_time": "2019-05-23T15:51:06.822069Z",
     "start_time": "2019-05-23T15:51:06.807404Z"
    }
   },
   "outputs": [],
   "source": [
    "y_train = np.zeros((len(train_df), num_classes)).astype(int)\n",
    "for i, row in enumerate(train_df['labels'].str.split(',')):\n",
    "    for label in row:\n",
    "        idx = labels.index(label)\n",
    "        y_train[i, idx] = 1"
   ]
  },
  {
   "cell_type": "markdown",
   "metadata": {},
   "source": [
    "## Preprocessing\n",
    "### librosa"
   ]
  },
  {
   "cell_type": "code",
   "execution_count": 22,
   "metadata": {
    "ExecuteTime": {
     "end_time": "2019-05-23T16:58:05.903625Z",
     "start_time": "2019-05-23T16:58:05.899558Z"
    }
   },
   "outputs": [],
   "source": [
    "def read_audio(wav_path):\n",
    "    y, _= librosa.load(wav_path, sr=SAMPLING_RATE)\n",
    "\n",
    "    # trim silence : https://librosa.github.io/librosa/generated/librosa.effects.trim.html\n",
    "    if 0 < len(y):\n",
    "        y, _ = librosa.effects.trim(y)\n",
    "\n",
    "    # padding short data\n",
    "    sample_size = SAMPLE_DURATION * SAMPLING_RATE\n",
    "    if len(y) < sample_size:\n",
    "        padding = sample_size - len(y)\n",
    "        offset = padding // 2\n",
    "        y = np.pad(y, (offset, sample_size - len(y) - offset), \"constant\")\n",
    "\n",
    "    return y  # np.ndarrya, shape=(sample_size,)"
   ]
  },
  {
   "cell_type": "code",
   "execution_count": 23,
   "metadata": {
    "ExecuteTime": {
     "end_time": "2019-05-23T16:58:06.385786Z",
     "start_time": "2019-05-23T16:58:06.380858Z"
    }
   },
   "outputs": [],
   "source": [
    "def audio_to_melspectrogram(audio, sr=SAMPLING_RATE):\n",
    "    spectrogram = librosa.feature.melspectrogram(\n",
    "        audio,\n",
    "        sr=sr,\n",
    "        n_mels=N_MEL,           # https://librosa.github.io/librosa/generated/librosa.filters.mel.html#librosa.filters.mel\n",
    "        hop_length= SAMPLE_DURATION * HOP_WINDOW,  # to make time steps 128\n",
    "        n_fft=N_MEL * FFT_WINDOW_SIZE,\n",
    "        fmin=20,                # Filterbank lowest frequency, Audible range 20[Hz]\n",
    "        fmax=sr / 2             # Nyquist frequency\n",
    "    )\n",
    "    spectrogram = librosa.power_to_db(spectrogram)\n",
    "    spectrogram = spectrogram.astype(np.float32)\n",
    "    return spectrogram"
   ]
  },
  {
   "cell_type": "code",
   "execution_count": 24,
   "metadata": {
    "ExecuteTime": {
     "end_time": "2019-05-23T16:58:06.704435Z",
     "start_time": "2019-05-23T16:58:06.700749Z"
    }
   },
   "outputs": [],
   "source": [
    "def mono_to_color(mono):\n",
    "    # stack X as [mono, mono, mono]\n",
    "    x = np.stack([mono, mono, mono], axis=-1)\n",
    "\n",
    "    # Standardize\n",
    "    x_std = (x - x.mean()) / (x.std() + 1e-6)\n",
    "\n",
    "    if (x_std.max() - x_std.min()) > 1e-6:\n",
    "        color = 255 * (x_std - x_std.min()) / (x_std.max() - x_std.min())\n",
    "        color = color.astype(np.uint8)\n",
    "    else:\n",
    "        color = np.zeros_like(x_std, dtype=np.uint8)\n",
    "\n",
    "    return color"
   ]
  },
  {
   "cell_type": "code",
   "execution_count": 25,
   "metadata": {
    "ExecuteTime": {
     "end_time": "2019-05-23T16:58:07.095825Z",
     "start_time": "2019-05-23T16:58:07.092996Z"
    }
   },
   "outputs": [],
   "source": [
    "def read_as_melspectrogram(pathname):\n",
    "    x = read_audio(pathname)\n",
    "    return audio_to_melspectrogram(x)"
   ]
  },
  {
   "cell_type": "code",
   "execution_count": 26,
   "metadata": {
    "ExecuteTime": {
     "end_time": "2019-05-23T16:58:07.609027Z",
     "start_time": "2019-05-23T16:58:07.605648Z"
    }
   },
   "outputs": [],
   "source": [
    "def convert_wav_to_image(df, source):\n",
    "    X = []\n",
    "    for i, row in df.iterrows():\n",
    "        x = read_as_melspectrogram(source / str(row.fname))\n",
    "        x_color = mono_to_color(x)\n",
    "        X.append(x_color)\n",
    "    return X"
   ]
  },
  {
   "cell_type": "code",
   "execution_count": 27,
   "metadata": {
    "ExecuteTime": {
     "end_time": "2019-05-23T17:11:45.344638Z",
     "start_time": "2019-05-23T17:11:45.339510Z"
    }
   },
   "outputs": [],
   "source": [
    "def create_best_50s_noisy(x_noisy):\n",
    "    df = x_noisy.copy()\n",
    "    df['singled'] = ~df.labels.str.contains(',')\n",
    "    singles_df = df[df.singled]\n",
    "    \n",
    "    cat_gp = (singles_df.groupby(\n",
    "        ['labels']).agg({\n",
    "        'fname':'count'\n",
    "    }).reset_index()).set_index('labels')\n",
    "    labels = singles_df.labels.unique()\n",
    "    \n",
    "    idxes_best50s = np.array([random.choices(singles_df[(singles_df.labels == l)].index, k=50) for l in labels]).ravel()\n",
    "    best50s_df = singles_df.loc[idxes_best50s]\n",
    "    return best50s_df"
   ]
  },
  {
   "cell_type": "markdown",
   "metadata": {},
   "source": [
    "### concat curated and noisy data"
   ]
  },
  {
   "cell_type": "code",
   "execution_count": 28,
   "metadata": {
    "ExecuteTime": {
     "end_time": "2019-05-23T16:59:23.406481Z",
     "start_time": "2019-05-23T16:58:07.954561Z"
    }
   },
   "outputs": [],
   "source": [
    "x_test =  convert_wav_to_image(test_df, dataset[\"test\"])"
   ]
  },
  {
   "cell_type": "code",
   "execution_count": 29,
   "metadata": {
    "ExecuteTime": {
     "end_time": "2019-05-23T15:50:10.720004Z",
     "start_time": "2019-05-23T15:50:09.400407Z"
    }
   },
   "outputs": [],
   "source": [
    "# Use kernel data\n",
    "with open(mels['train_curated'], 'rb') as curated, open(mels['train_noisy'], 'rb') as noisy:\n",
    "    x_train = pickle.load(curated)\n",
    "    if CURATED_ONLY == False:\n",
    "        x_train.extend(pickle.load(noisy))"
   ]
  },
  {
   "cell_type": "code",
   "execution_count": 30,
   "metadata": {
    "ExecuteTime": {
     "end_time": "2019-05-23T17:08:35.611321Z",
     "start_time": "2019-05-23T17:08:34.023000Z"
    }
   },
   "outputs": [],
   "source": [
    "if USE_KERNEL_DATASET:\n",
    "    x_train = load_pkl(mels[\"train_curated\"])\n",
    "    if CURATED_ONLY == False:\n",
    "        x_train.extend(load_pkl(mels[\"train_noisy\"]))\n",
    "else:\n",
    "    x_trainn = convert_wav_to_image(train_curated)\n",
    "    if CURATED_ONLY == False:\n",
    "        x_noisy = convert_wav_to_image(train_noisy)\n",
    "        x_train.extend(x_noisy)"
   ]
  },
  {
   "cell_type": "code",
   "execution_count": 31,
   "metadata": {
    "ExecuteTime": {
     "end_time": "2019-05-23T17:06:04.572841Z",
     "start_time": "2019-05-23T17:06:04.569827Z"
    }
   },
   "outputs": [
    {
     "name": "stdout",
     "output_type": "stream",
     "text": [
      "y_train.shape: (4970, 80)\n",
      "length of x_train: 4970\n"
     ]
    }
   ],
   "source": [
    "# Utility Cell\n",
    "print(\"y_train.shape: {}\".format(y_train.shape))\n",
    "print(\"length of x_train: {}\".format(len(x_train)))"
   ]
  },
  {
   "cell_type": "markdown",
   "metadata": {},
   "source": [
    "## Training\n",
    "### Definition of Keras functions"
   ]
  },
  {
   "cell_type": "code",
   "execution_count": 32,
   "metadata": {
    "ExecuteTime": {
     "end_time": "2019-05-23T15:50:59.512177Z",
     "start_time": "2019-05-23T15:50:59.501804Z"
    }
   },
   "outputs": [],
   "source": [
    "# from https://www.kaggle.com/rio114/keras-cnn-with-lwlrap-evaluation/\n",
    "def tf_one_sample_positive_class_precisions(y_true, y_pred) :\n",
    "    num_samples, num_classes = y_pred.shape\n",
    "    \n",
    "    # find true labels\n",
    "    pos_class_indices = tf.where(y_true > 0) \n",
    "    \n",
    "    # put rank on each element\n",
    "    retrieved_classes = tf.nn.top_k(y_pred, k=num_classes).indices\n",
    "    sample_range = tf.zeros(shape=tf.shape(tf.transpose(y_pred)), dtype=tf.int32)\n",
    "    sample_range = tf.add(sample_range, tf.range(tf.shape(y_pred)[0], delta=1))\n",
    "    sample_range = tf.transpose(sample_range)\n",
    "    sample_range = tf.reshape(sample_range, (-1,num_classes*tf.shape(y_pred)[0]))\n",
    "    retrieved_classes = tf.reshape(retrieved_classes, (-1,num_classes*tf.shape(y_pred)[0]))\n",
    "    retrieved_class_map = tf.concat((sample_range, retrieved_classes), axis=0)\n",
    "    retrieved_class_map = tf.transpose(retrieved_class_map)\n",
    "    retrieved_class_map = tf.reshape(retrieved_class_map, (tf.shape(y_pred)[0], num_classes, 2))\n",
    "    \n",
    "    class_range = tf.zeros(shape=tf.shape(y_pred), dtype=tf.int32)\n",
    "    class_range = tf.add(class_range, tf.range(num_classes, delta=1))\n",
    "    \n",
    "    class_rankings = tf.scatter_nd(retrieved_class_map,\n",
    "                                          class_range,\n",
    "                                          tf.shape(y_pred))\n",
    "    \n",
    "    #pick_up ranks\n",
    "    num_correct_until_correct = tf.gather_nd(class_rankings, pos_class_indices)\n",
    "\n",
    "    # add one for division for \"presicion_at_hits\"\n",
    "    num_correct_until_correct_one = tf.add(num_correct_until_correct, 1) \n",
    "    num_correct_until_correct_one = tf.cast(num_correct_until_correct_one, tf.float32)\n",
    "    \n",
    "    # generate tensor [num_sample, predict_rank], \n",
    "    # top-N predicted elements have flag, N is the number of positive for each sample.\n",
    "    sample_label = pos_class_indices[:, 0]   \n",
    "    sample_label = tf.reshape(sample_label, (-1, 1))\n",
    "    sample_label = tf.cast(sample_label, tf.int32)\n",
    "    \n",
    "    num_correct_until_correct = tf.reshape(num_correct_until_correct, (-1, 1))\n",
    "    retrieved_class_true_position = tf.concat((sample_label, \n",
    "                                               num_correct_until_correct), axis=1)\n",
    "    retrieved_pos = tf.ones(shape=tf.shape(retrieved_class_true_position)[0], dtype=tf.int32)\n",
    "    retrieved_class_true = tf.scatter_nd(retrieved_class_true_position, \n",
    "                                         retrieved_pos, \n",
    "                                         tf.shape(y_pred))\n",
    "    # cumulate predict_rank\n",
    "    retrieved_cumulative_hits = tf.cumsum(retrieved_class_true, axis=1)\n",
    "\n",
    "    # find positive position\n",
    "    pos_ret_indices = tf.where(retrieved_class_true > 0)\n",
    "\n",
    "    # find cumulative hits\n",
    "    correct_rank = tf.gather_nd(retrieved_cumulative_hits, pos_ret_indices)  \n",
    "    correct_rank = tf.cast(correct_rank, tf.float32)\n",
    "\n",
    "    # compute presicion\n",
    "    precision_at_hits = tf.truediv(correct_rank, num_correct_until_correct_one)\n",
    "\n",
    "    return pos_class_indices, precision_at_hits"
   ]
  },
  {
   "cell_type": "code",
   "execution_count": 33,
   "metadata": {
    "ExecuteTime": {
     "end_time": "2019-05-23T15:51:00.524441Z",
     "start_time": "2019-05-23T15:51:00.518387Z"
    }
   },
   "outputs": [],
   "source": [
    "def tf_lwlrap(y_true, y_pred):\n",
    "    num_samples, num_classes = y_pred.shape\n",
    "    pos_class_indices, precision_at_hits = (tf_one_sample_positive_class_precisions(y_true, y_pred))\n",
    "    pos_flgs = tf.cast(y_true > 0, tf.int32)\n",
    "    labels_per_class = tf.reduce_sum(pos_flgs, axis=0)\n",
    "    weight_per_class = tf.truediv(tf.cast(labels_per_class, tf.float32),\n",
    "                                  tf.cast(tf.reduce_sum(labels_per_class), tf.float32))\n",
    "    sum_precisions_by_classes = tf.zeros(shape=(num_classes), dtype=tf.float32)  \n",
    "    class_label = pos_class_indices[:,1]\n",
    "    sum_precisions_by_classes = tf.unsorted_segment_sum(precision_at_hits,\n",
    "                                                        class_label,\n",
    "                                                       num_classes)\n",
    "    labels_per_class = tf.cast(labels_per_class, tf.float32)\n",
    "    labels_per_class = tf.add(labels_per_class, 1e-7)\n",
    "    per_class_lwlrap = tf.truediv(sum_precisions_by_classes,\n",
    "                                  tf.cast(labels_per_class, tf.float32))\n",
    "    out = tf.cast(tf.tensordot(per_class_lwlrap, weight_per_class, axes=1), dtype=tf.float32)\n",
    "    return out"
   ]
  },
  {
   "cell_type": "code",
   "execution_count": 34,
   "metadata": {
    "ExecuteTime": {
     "end_time": "2019-05-23T15:51:01.469798Z",
     "start_time": "2019-05-23T15:51:01.466413Z"
    }
   },
   "outputs": [],
   "source": [
    "def BCEwithLogits(y_true, y_pred):\n",
    "    return K.mean(K.binary_crossentropy(y_true, y_pred, from_logits=True), axis=-1)"
   ]
  },
  {
   "cell_type": "markdown",
   "metadata": {},
   "source": [
    "## Definition of models"
   ]
  },
  {
   "cell_type": "code",
   "execution_count": 35,
   "metadata": {
    "ExecuteTime": {
     "end_time": "2019-05-23T15:37:48.361303Z",
     "start_time": "2019-05-23T15:37:48.357848Z"
    }
   },
   "outputs": [],
   "source": [
    "def conv_simple_block(x, n_filters):\n",
    "    x = Convolution2D(n_filters, (3,1), padding=\"same\")(x)\n",
    "    x = BatchNormalization()(x)\n",
    "    x = Activation(\"relu\")(x)\n",
    "    \n",
    "    x = Convolution2D(n_filters, (3,1), padding=\"same\")(x)\n",
    "    x = BatchNormalization()(x)\n",
    "    x = Activation(\"relu\")(x)\n",
    "    x = AveragePooling2D()(x)\n",
    "    return x"
   ]
  },
  {
   "cell_type": "code",
   "execution_count": 36,
   "metadata": {
    "ExecuteTime": {
     "end_time": "2019-05-23T15:37:48.533413Z",
     "start_time": "2019-05-23T15:37:48.528999Z"
    }
   },
   "outputs": [],
   "source": [
    "def create_model_simplecnn(n_out=num_classes):\n",
    "    inp = Input(shape=(128,128,3))\n",
    "    # np = Input(shape=(None,None,3))\n",
    "    x = conv_simple_block(inp,64)\n",
    "    x = conv_simple_block(x,128)\n",
    "    x = conv_simple_block(x,256)\n",
    "    x = conv_simple_block(x,128)\n",
    "    \n",
    "    # x1 = GlobalAveragePooling2D()(x)\n",
    "    # x2 = GlobalMaxPooling2D()(x)\n",
    "    # x = Add()([x1,x2])\n",
    "\n",
    "    x = Flatten()(x)\n",
    "    x = Dropout(0.2)(x)\n",
    "\n",
    "    x = Dense(128, activation='linear')(x)\n",
    "    x = PReLU()(x)\n",
    "    x = BatchNormalization()(x)\n",
    "    x = Dropout(0.2)(x)\n",
    "    predictions = Dense(n_out, activation=ACTIVATION)(x)\n",
    "\n",
    "    model = Model(inputs=inp, outputs=predictions)\n",
    "    return model"
   ]
  },
  {
   "cell_type": "code",
   "execution_count": 37,
   "metadata": {
    "ExecuteTime": {
     "end_time": "2019-05-23T15:37:48.912950Z",
     "start_time": "2019-05-23T15:37:48.907588Z"
    }
   },
   "outputs": [],
   "source": [
    "def output_of_lambda(input_shape):\n",
    "    return (input_shape[0], input_shape[2], input_shape[3])\n",
    "\n",
    "def my_max(x):\n",
    "    return K.max(x, axis=1, keepdims=False)\n",
    "\n",
    "def crnn_simple_block(x, n_filters):\n",
    "    x = Convolution2D(n_filters, (3,1), padding=\"same\")(x)\n",
    "    x = Activation(\"relu\")(x)\n",
    "    x = Convolution2D(n_filters, (3,1), padding=\"same\")(x)\n",
    "    x = Activation(\"relu\")(x)\n",
    "    x = MaxPooling2D()(x)\n",
    "    x = Dropout(0.2)(x)\n",
    "    return x\n",
    "\n",
    "def create_model_crnn(n_out= num_classes):\n",
    "    \n",
    "    # inp = Input(shape=(128,128,3))\n",
    "    inp = Input(shape=(128,None,3))\n",
    "    x = crnn_simple_block(inp,64)\n",
    "    x = crnn_simple_block(x,128)\n",
    "    x = crnn_simple_block(x,256)\n",
    "    \n",
    "    # eliminate the frequency dimension, x = (batch, time, channels)\n",
    "    x = Lambda(my_max, output_shape=output_of_lambda)(x)\n",
    "    \n",
    "    x = Bidirectional(CuDNNGRU(128, return_sequences=True))(x)\n",
    "    #  x = Bidirectional(CuDNNLSTM(64, return_sequences=True))(x)\n",
    "    x = GlobalMaxPooling1D()(x)\n",
    "    x = Dense(128, activation='linear')(x)\n",
    "    x = PReLU()(x)\n",
    "    x = BatchNormalization()(x)\n",
    "    x = Dropout(0.2)(x)\n",
    "    predictions = Dense(n_out, activation=ACTIVATION)(x)\n",
    "\n",
    "    model = Model(inputs=inp, outputs=predictions)\n",
    "    return model"
   ]
  },
  {
   "cell_type": "code",
   "execution_count": 38,
   "metadata": {
    "ExecuteTime": {
     "end_time": "2019-05-23T17:22:37.603393Z",
     "start_time": "2019-05-23T17:22:37.594838Z"
    }
   },
   "outputs": [],
   "source": [
    "# from the 8th solution in 2018 competition\n",
    "# https://github.com/sainathadapa/kaggle-freesound-audio-tagging\n",
    "def create_model_cnn8th(n_out=num_classes):\n",
    "    regu=0\n",
    "    inp = Input(shape=(128,128,3))\n",
    "\n",
    "    x = Conv2D(48, 11,  strides=(1,1),kernel_initializer='he_uniform', activation='relu', padding='same',kernel_regularizer=regularizers.l2(regu))(inp)\n",
    "    x = BatchNormalization()(x)\n",
    "    x = Conv2D(48, 11,  strides=(2,3),kernel_initializer='he_uniform', activation='relu', padding='same',kernel_regularizer=regularizers.l2(regu))(x)\n",
    "    x = MaxPooling2D(3, strides=(1,2))(x)\n",
    "    x = BatchNormalization()(x)\n",
    "\n",
    "    x = Conv2D(128, 5, strides=(1,1),kernel_initializer='he_uniform', activation='relu', padding='same',kernel_regularizer=regularizers.l2(regu))(x)\n",
    "    x = BatchNormalization()(x)\n",
    "    x = Conv2D(128, 5, strides=(2,3),kernel_initializer='he_uniform', activation='relu', padding='same',kernel_regularizer=regularizers.l2(regu))(x)\n",
    "    x = MaxPooling2D(3, strides=2)(x)\n",
    "    x = BatchNormalization()(x)\n",
    "\n",
    "    x = Conv2D(192, 3, strides=1,kernel_initializer='he_uniform', activation='relu', padding='same')(x)\n",
    "    x = BatchNormalization()(x)\n",
    "    x = Conv2D(192, 3, strides=1,kernel_initializer='he_uniform', activation='relu', padding='same')(x)\n",
    "    x = BatchNormalization()(x)\n",
    "    x = Conv2D(128, 3, strides=1,kernel_initializer='he_uniform', activation='relu', padding='same',kernel_regularizer=regularizers.l2(regu))(x)\n",
    "    x = MaxPooling2D(3, strides=(1,2))(x)\n",
    "    x = BatchNormalization()(x)\n",
    "\n",
    "    x = Flatten()(x)\n",
    "    x = Dense(256, activation='relu')(x)\n",
    "    x = Dropout(0.5)(x)\n",
    "    x = Dense(256, activation='relu')(x)\n",
    "    x = Dropout(0.5)(x)\n",
    "\n",
    "    predictions = Dense(n_out, activation=ACTIVATION)(x)\n",
    "\n",
    "    model = Model(inputs=inp, outputs=predictions)\n",
    "    return model"
   ]
  },
  {
   "cell_type": "code",
   "execution_count": 39,
   "metadata": {
    "ExecuteTime": {
     "end_time": "2019-05-23T17:22:39.086372Z",
     "start_time": "2019-05-23T17:22:38.302774Z"
    }
   },
   "outputs": [
    {
     "name": "stdout",
     "output_type": "stream",
     "text": [
      "WARNING:tensorflow:From /opt/conda/lib/python3.6/site-packages/tensorflow/python/framework/op_def_library.py:263: colocate_with (from tensorflow.python.framework.ops) is deprecated and will be removed in a future version.\n",
      "Instructions for updating:\n",
      "Colocations handled automatically by placer.\n",
      "WARNING:tensorflow:From /opt/conda/lib/python3.6/site-packages/keras/backend/tensorflow_backend.py:3445: calling dropout (from tensorflow.python.ops.nn_ops) with keep_prob is deprecated and will be removed in a future version.\n",
      "Instructions for updating:\n",
      "Please use `rate` instead of `keep_prob`. Rate should be set to `rate = 1 - keep_prob`.\n",
      "cnn8th\n",
      "_________________________________________________________________\n",
      "Layer (type)                 Output Shape              Param #   \n",
      "=================================================================\n",
      "input_1 (InputLayer)         (None, 128, 128, 3)       0         \n",
      "_________________________________________________________________\n",
      "conv2d_1 (Conv2D)            (None, 128, 128, 48)      17472     \n",
      "_________________________________________________________________\n",
      "batch_normalization_1 (Batch (None, 128, 128, 48)      192       \n",
      "_________________________________________________________________\n",
      "conv2d_2 (Conv2D)            (None, 64, 43, 48)        278832    \n",
      "_________________________________________________________________\n",
      "max_pooling2d_1 (MaxPooling2 (None, 62, 21, 48)        0         \n",
      "_________________________________________________________________\n",
      "batch_normalization_2 (Batch (None, 62, 21, 48)        192       \n",
      "_________________________________________________________________\n",
      "conv2d_3 (Conv2D)            (None, 62, 21, 128)       153728    \n",
      "_________________________________________________________________\n",
      "batch_normalization_3 (Batch (None, 62, 21, 128)       512       \n",
      "_________________________________________________________________\n",
      "conv2d_4 (Conv2D)            (None, 31, 7, 128)        409728    \n",
      "_________________________________________________________________\n",
      "max_pooling2d_2 (MaxPooling2 (None, 15, 3, 128)        0         \n",
      "_________________________________________________________________\n",
      "batch_normalization_4 (Batch (None, 15, 3, 128)        512       \n",
      "_________________________________________________________________\n",
      "conv2d_5 (Conv2D)            (None, 15, 3, 192)        221376    \n",
      "_________________________________________________________________\n",
      "batch_normalization_5 (Batch (None, 15, 3, 192)        768       \n",
      "_________________________________________________________________\n",
      "conv2d_6 (Conv2D)            (None, 15, 3, 192)        331968    \n",
      "_________________________________________________________________\n",
      "batch_normalization_6 (Batch (None, 15, 3, 192)        768       \n",
      "_________________________________________________________________\n",
      "conv2d_7 (Conv2D)            (None, 15, 3, 128)        221312    \n",
      "_________________________________________________________________\n",
      "max_pooling2d_3 (MaxPooling2 (None, 13, 1, 128)        0         \n",
      "_________________________________________________________________\n",
      "batch_normalization_7 (Batch (None, 13, 1, 128)        512       \n",
      "_________________________________________________________________\n",
      "flatten_1 (Flatten)          (None, 1664)              0         \n",
      "_________________________________________________________________\n",
      "dense_1 (Dense)              (None, 256)               426240    \n",
      "_________________________________________________________________\n",
      "dropout_1 (Dropout)          (None, 256)               0         \n",
      "_________________________________________________________________\n",
      "dense_2 (Dense)              (None, 256)               65792     \n",
      "_________________________________________________________________\n",
      "dropout_2 (Dropout)          (None, 256)               0         \n",
      "_________________________________________________________________\n",
      "dense_3 (Dense)              (None, 80)                20560     \n",
      "=================================================================\n",
      "Total params: 2,150,464\n",
      "Trainable params: 2,148,736\n",
      "Non-trainable params: 1,728\n",
      "_________________________________________________________________\n"
     ]
    }
   ],
   "source": [
    "K.clear_session()\n",
    "preprocess_input = preprocess_mobile\n",
    "if MODEL == 'crnn':\n",
    "    model = create_model_crnn(n_out=num_classes)\n",
    "elif MODEL == 'cnn8th':\n",
    "    model = create_model_cnn8th(n_out=num_classes)\n",
    "else:\n",
    "    model = create_model_simplecnn(n_out=num_classes)\n",
    "\n",
    "print(MODEL)\n",
    "model.summary()"
   ]
  },
  {
   "cell_type": "markdown",
   "metadata": {},
   "source": [
    "## Augmentation"
   ]
  },
  {
   "cell_type": "code",
   "execution_count": 40,
   "metadata": {
    "ExecuteTime": {
     "end_time": "2019-05-23T15:56:09.560624Z",
     "start_time": "2019-05-23T15:56:09.555585Z"
    }
   },
   "outputs": [],
   "source": [
    "def spec_augment(spec: np.ndarray, num_mask=2,\n",
    "                 freq_masking_max_percentage=0.15, time_masking_max_percentage=0.3):\n",
    "    \"\"\"Simple augmentation using cross masks\n",
    "    Reference: https://www.kaggle.com/davids1992/specaugment-quick-implementation\n",
    "    \"\"\"\n",
    "    spec = spec.copy()\n",
    "\n",
    "    for i in range(num_mask):\n",
    "        all_frames_num, all_freqs_num = spec.shape\n",
    "        freq_percentage = random.uniform(0.0, freq_masking_max_percentage)\n",
    "\n",
    "        num_freqs_to_mask = int(freq_percentage * all_freqs_num)\n",
    "        f0 = np.random.uniform(low=0.0, high=all_freqs_num - num_freqs_to_mask)\n",
    "        f0 = int(f0)\n",
    "        spec[:, f0:f0 + num_freqs_to_mask] = 0\n",
    "\n",
    "        time_percentage = random.uniform(0.0, time_masking_max_percentage)\n",
    "\n",
    "        num_frames_to_mask = int(time_percentage * all_frames_num)\n",
    "        t0 = np.random.uniform(low=0.0, high=all_frames_num - num_frames_to_mask)\n",
    "        t0 = int(t0)\n",
    "        spec[t0:t0 + num_frames_to_mask, :] = 0\n",
    "\n",
    "    return spec"
   ]
  },
  {
   "cell_type": "code",
   "execution_count": 41,
   "metadata": {
    "ExecuteTime": {
     "end_time": "2019-05-23T17:17:57.003816Z",
     "start_time": "2019-05-23T17:17:56.999401Z"
    }
   },
   "outputs": [],
   "source": [
    "augment_img = iaa.Sequential([\n",
    "    # iaa.ContrastNormalization((0.9, 1.1)),\n",
    "    # iaa.Multiply((0.9, 1.1), per_channel=0.2),\n",
    "    # iaa.Fliplr(0.5),\n",
    "    iaa.GaussianBlur(sigma=(0, 0.1)),\n",
    "    # iaa.Affine( # x-shift\n",
    "    #     translate_percent={\"x\": (-0.1, 0.1), \"y\": (-0.0, 0.0)},\n",
    "    #  ),\n",
    "    iaa.CoarseDropout(0.12,size_percent=0.05) # see examples : https://github.com/aleju/imgaug\n",
    "], random_order=True)"
   ]
  },
  {
   "cell_type": "code",
   "execution_count": 42,
   "metadata": {
    "ExecuteTime": {
     "end_time": "2019-05-23T17:19:54.536033Z",
     "start_time": "2019-05-23T17:19:54.527160Z"
    }
   },
   "outputs": [],
   "source": [
    "class FATTrainDataset(Sequence):\n",
    "\n",
    "    def mix_up(x, y):\n",
    "        x = np.array(x, np.float32)\n",
    "        lam = np.random.beta(1.0, 1.0)\n",
    "        ori_index = np.arange(int(len(x)))\n",
    "        index_array = np.arange(int(len(x)))\n",
    "        np.random.shuffle(index_array)        \n",
    "        \n",
    "        mixed_x = lam * x[ori_index] + (1 - lam) * x[index_array]\n",
    "        mixed_y = lam * y[ori_index] + (1 - lam) * y[index_array]\n",
    "        \n",
    "        return mixed_x, mixed_y\n",
    "    \n",
    "    def getitem(image):\n",
    "        # crop 2sec\n",
    "\n",
    "        base_dim, time_dim, _ = image.shape\n",
    "        crop = random.randint(0, time_dim - base_dim)\n",
    "        image = image[:,crop:crop+base_dim,:]\n",
    "\n",
    "        image = preprocess_input(image)\n",
    "        # label = self.labels[idx]\n",
    "        return image\n",
    "\n",
    "    def create_generator(train_X, train_y, batch_size, shape, augument=False, shuffling=False, test_data=False, mixup=False, mixup_prob=0.3):\n",
    "        assert shape[2] == 3\n",
    "        while True:\n",
    "            if shuffling:\n",
    "                train_X,train_y = shuffle(train_X,train_y)\n",
    "\n",
    "            for start in range(0, len(train_y), batch_size):\n",
    "                end = min(start + batch_size, len(train_y))\n",
    "                batch_images = []\n",
    "                X_train_batch = train_X[start:end]\n",
    "                if test_data == False:\n",
    "                    batch_labels = train_y[start:end]\n",
    "                \n",
    "                for i in range(len(X_train_batch)):\n",
    "                    image = FATTrainDataset.getitem(X_train_batch[i])   \n",
    "                    if augument:\n",
    "                        image = FATTrainDataset.augment(image)\n",
    "                    batch_images.append(image)\n",
    "                \n",
    "                if (mixup and test_data == False):\n",
    "                    dice = np.random.rand(1)\n",
    "                    if dice > mixup_prob:\n",
    "                        batch_images, batch_labels =  FATTrainDataset.mix_up(batch_images, batch_labels)    \n",
    "                    \n",
    "                if test_data == False:\n",
    "                    yield np.array(batch_images, np.float32), batch_labels\n",
    "                else:\n",
    "                    yield np.array(batch_images, np.float32)\n",
    "        return image\n",
    "    \n",
    "    def augment(image):\n",
    "        image_aug = augment_img.augment_image(image)\n",
    "        return image_aug"
   ]
  },
  {
   "cell_type": "code",
   "execution_count": 43,
   "metadata": {
    "ExecuteTime": {
     "end_time": "2019-05-23T17:24:16.554001Z",
     "start_time": "2019-05-23T17:24:16.550309Z"
    }
   },
   "outputs": [],
   "source": [
    "reduceLROnPlat = ReduceLROnPlateau(monitor='val_tf_lwlrap', factor=LR_FACTOR, patience=PATIENCE, \n",
    "                                   verbose=1, mode='max', min_delta=0.0001, cooldown=2, min_lr=1e-5 )\n",
    "checkpoint = ModelCheckpoint(checkpoint_file[0], monitor='val_tf_lwlrap', verbose=1, \n",
    "                             save_best_only=True, mode='max', save_weights_only = False)\n",
    "callbacks_list = [checkpoint, reduceLROnPlat]"
   ]
  },
  {
   "cell_type": "code",
   "execution_count": 44,
   "metadata": {
    "ExecuteTime": {
     "end_time": "2019-05-23T17:21:37.624634Z",
     "start_time": "2019-05-23T17:21:37.607607Z"
    }
   },
   "outputs": [],
   "source": [
    "# split data into train, valid\n",
    "x_trn, x_val, y_trn, y_val = train_test_split(x_train, y_train, test_size=0.2, random_state=SEED)\n",
    "\n",
    "# create train and valid datagens\n",
    "train_generator = FATTrainDataset.create_generator(\n",
    "    x_trn, y_trn, BATCH_SIZE, (SIZE,SIZE,3), augument=TRAIN_AUGMENT, shuffling=True, mixup = USE_MIXUP, mixup_prob = MIXUP_PROB)\n",
    "validation_generator = FATTrainDataset.create_generator(\n",
    "    x_val, y_val, BATCH_SIZE, (SIZE,SIZE,3), augument=VALID_AUGMENT, shuffling=False)"
   ]
  },
  {
   "cell_type": "code",
   "execution_count": 45,
   "metadata": {
    "ExecuteTime": {
     "end_time": "2019-05-23T17:21:46.266981Z",
     "start_time": "2019-05-23T17:21:46.262951Z"
    }
   },
   "outputs": [
    {
     "name": "stdout",
     "output_type": "stream",
     "text": [
      "125 32\n",
      "3976\n"
     ]
    }
   ],
   "source": [
    "train_steps = np.ceil(float(len(x_trn)) / float(BATCH_SIZE))\n",
    "val_steps = np.ceil(float(len(x_val)) / float(BATCH_SIZE))\n",
    "train_steps = train_steps.astype(int)\n",
    "val_steps = val_steps.astype(int)\n",
    "print(train_steps, val_steps)\n",
    "print(len(x_trn))"
   ]
  },
  {
   "cell_type": "code",
   "execution_count": 46,
   "metadata": {
    "ExecuteTime": {
     "end_time": "2019-05-23T17:22:43.053261Z",
     "start_time": "2019-05-23T17:22:42.899205Z"
    }
   },
   "outputs": [
    {
     "name": "stdout",
     "output_type": "stream",
     "text": [
      "BCEwithLogits\n"
     ]
    }
   ],
   "source": [
    "print(LOSS)\n",
    "if LOSS=='BCEwithLogits':\n",
    "     model.compile(loss=BCEwithLogits,\n",
    "            optimizer=Adam(lr=LR),\n",
    "            metrics=[tf_lwlrap,'categorical_accuracy'])\n",
    "else:\n",
    "    model.compile(loss=LOSS,\n",
    "            optimizer=Adam(lr=LR),\n",
    "            metrics=[tf_lwlrap,'categorical_accuracy'])"
   ]
  },
  {
   "cell_type": "code",
   "execution_count": 47,
   "metadata": {
    "ExecuteTime": {
     "end_time": "2019-05-23T17:24:18.281081Z",
     "start_time": "2019-05-23T17:24:18.277013Z"
    }
   },
   "outputs": [
    {
     "name": "stdout",
     "output_type": "stream",
     "text": [
      "0.0004 9 0.75 32 True True 0.25\n"
     ]
    }
   ],
   "source": [
    "print(LR, PATIENCE, LR_FACTOR,BATCH_SIZE, TRAIN_AUGMENT, USE_MIXUP, MIXUP_PROB)"
   ]
  },
  {
   "cell_type": "code",
   "execution_count": 48,
   "metadata": {
    "ExecuteTime": {
     "end_time": "2019-05-23T17:24:25.047709Z",
     "start_time": "2019-05-23T17:24:18.796487Z"
    }
   },
   "outputs": [
    {
     "name": "stdout",
     "output_type": "stream",
     "text": [
      "WARNING:tensorflow:From /opt/conda/lib/python3.6/site-packages/tensorflow/python/ops/math_ops.py:3066: to_int32 (from tensorflow.python.ops.math_ops) is deprecated and will be removed in a future version.\n",
      "Instructions for updating:\n",
      "Use tf.cast instead.\n",
      "Epoch 1/303\n",
      "125/125 [==============================] - 14s 113ms/step - loss: 0.1963 - tf_lwlrap: 0.1062 - categorical_accuracy: 0.0180 - val_loss: 0.0812 - val_tf_lwlrap: 0.1405 - val_categorical_accuracy: 0.0473\n",
      "\n",
      "Epoch 00001: val_tf_lwlrap improved from -inf to 0.14047, saving model to model_best1.h5\n",
      "Epoch 2/303\n",
      "125/125 [==============================] - 11s 88ms/step - loss: 0.0949 - tf_lwlrap: 0.1140 - categorical_accuracy: 0.0183 - val_loss: 0.0785 - val_tf_lwlrap: 0.1939 - val_categorical_accuracy: 0.0956\n",
      "\n",
      "Epoch 00002: val_tf_lwlrap improved from 0.14047 to 0.19388, saving model to model_best1.h5\n",
      "Epoch 3/303\n",
      "125/125 [==============================] - 11s 87ms/step - loss: 0.0891 - tf_lwlrap: 0.1259 - categorical_accuracy: 0.0252 - val_loss: 0.0728 - val_tf_lwlrap: 0.2144 - val_categorical_accuracy: 0.1006\n",
      "\n",
      "Epoch 00003: val_tf_lwlrap improved from 0.19388 to 0.21444, saving model to model_best1.h5\n",
      "Epoch 4/303\n",
      "125/125 [==============================] - 11s 88ms/step - loss: 0.0863 - tf_lwlrap: 0.1400 - categorical_accuracy: 0.0343 - val_loss: 0.0729 - val_tf_lwlrap: 0.2547 - val_categorical_accuracy: 0.1328\n",
      "\n",
      "Epoch 00004: val_tf_lwlrap improved from 0.21444 to 0.25467, saving model to model_best1.h5\n",
      "Epoch 5/303\n",
      "125/125 [==============================] - 11s 88ms/step - loss: 0.0845 - tf_lwlrap: 0.1467 - categorical_accuracy: 0.0383 - val_loss: 0.0679 - val_tf_lwlrap: 0.2705 - val_categorical_accuracy: 0.1439\n",
      "\n",
      "Epoch 00005: val_tf_lwlrap improved from 0.25467 to 0.27052, saving model to model_best1.h5\n",
      "Epoch 6/303\n",
      "125/125 [==============================] - 11s 89ms/step - loss: 0.0824 - tf_lwlrap: 0.1634 - categorical_accuracy: 0.0480 - val_loss: 0.0704 - val_tf_lwlrap: 0.2377 - val_categorical_accuracy: 0.0956\n",
      "\n",
      "Epoch 00006: val_tf_lwlrap did not improve from 0.27052\n",
      "Epoch 7/303\n",
      "125/125 [==============================] - 11s 90ms/step - loss: 0.0800 - tf_lwlrap: 0.1829 - categorical_accuracy: 0.0595 - val_loss: 0.0636 - val_tf_lwlrap: 0.3044 - val_categorical_accuracy: 0.1539\n",
      "\n",
      "Epoch 00007: val_tf_lwlrap improved from 0.27052 to 0.30440, saving model to model_best1.h5\n",
      "Epoch 8/303\n",
      "125/125 [==============================] - 11s 88ms/step - loss: 0.0784 - tf_lwlrap: 0.1987 - categorical_accuracy: 0.0792 - val_loss: 0.0637 - val_tf_lwlrap: 0.3103 - val_categorical_accuracy: 0.1660\n",
      "\n",
      "Epoch 00008: val_tf_lwlrap improved from 0.30440 to 0.31026, saving model to model_best1.h5\n",
      "Epoch 9/303\n",
      "125/125 [==============================] - 11s 88ms/step - loss: 0.0770 - tf_lwlrap: 0.2120 - categorical_accuracy: 0.0808 - val_loss: 0.0628 - val_tf_lwlrap: 0.3138 - val_categorical_accuracy: 0.1660\n",
      "\n",
      "Epoch 00009: val_tf_lwlrap improved from 0.31026 to 0.31380, saving model to model_best1.h5\n",
      "Epoch 10/303\n",
      "125/125 [==============================] - 11s 88ms/step - loss: 0.0752 - tf_lwlrap: 0.2398 - categorical_accuracy: 0.1025 - val_loss: 0.0602 - val_tf_lwlrap: 0.3426 - val_categorical_accuracy: 0.1851\n",
      "\n",
      "Epoch 00010: val_tf_lwlrap improved from 0.31380 to 0.34260, saving model to model_best1.h5\n",
      "Epoch 11/303\n",
      "125/125 [==============================] - 11s 87ms/step - loss: 0.0744 - tf_lwlrap: 0.2478 - categorical_accuracy: 0.1118 - val_loss: 0.0599 - val_tf_lwlrap: 0.3491 - val_categorical_accuracy: 0.1972\n",
      "\n",
      "Epoch 00011: val_tf_lwlrap improved from 0.34260 to 0.34915, saving model to model_best1.h5\n",
      "Epoch 12/303\n",
      "125/125 [==============================] - 11s 87ms/step - loss: 0.0725 - tf_lwlrap: 0.2699 - categorical_accuracy: 0.1175 - val_loss: 0.0568 - val_tf_lwlrap: 0.3833 - val_categorical_accuracy: 0.2213\n",
      "\n",
      "Epoch 00012: val_tf_lwlrap improved from 0.34915 to 0.38327, saving model to model_best1.h5\n",
      "Epoch 13/303\n",
      "125/125 [==============================] - 11s 87ms/step - loss: 0.0724 - tf_lwlrap: 0.2752 - categorical_accuracy: 0.1325 - val_loss: 0.0584 - val_tf_lwlrap: 0.3711 - val_categorical_accuracy: 0.2032\n",
      "\n",
      "Epoch 00013: val_tf_lwlrap did not improve from 0.38327\n",
      "Epoch 14/303\n",
      "125/125 [==============================] - 11s 88ms/step - loss: 0.0711 - tf_lwlrap: 0.2775 - categorical_accuracy: 0.1235 - val_loss: 0.0571 - val_tf_lwlrap: 0.4073 - val_categorical_accuracy: 0.2555\n",
      "\n",
      "Epoch 00014: val_tf_lwlrap improved from 0.38327 to 0.40734, saving model to model_best1.h5\n",
      "Epoch 15/303\n",
      "125/125 [==============================] - 11s 89ms/step - loss: 0.0700 - tf_lwlrap: 0.2937 - categorical_accuracy: 0.1490 - val_loss: 0.0548 - val_tf_lwlrap: 0.4276 - val_categorical_accuracy: 0.2565\n",
      "\n",
      "Epoch 00015: val_tf_lwlrap improved from 0.40734 to 0.42764, saving model to model_best1.h5\n",
      "Epoch 16/303\n",
      "125/125 [==============================] - 11s 89ms/step - loss: 0.0692 - tf_lwlrap: 0.3137 - categorical_accuracy: 0.1577 - val_loss: 0.0551 - val_tf_lwlrap: 0.4400 - val_categorical_accuracy: 0.2736\n",
      "\n",
      "Epoch 00016: val_tf_lwlrap improved from 0.42764 to 0.44002, saving model to model_best1.h5\n",
      "Epoch 17/303\n",
      "125/125 [==============================] - 11s 88ms/step - loss: 0.0681 - tf_lwlrap: 0.3303 - categorical_accuracy: 0.1640 - val_loss: 0.0537 - val_tf_lwlrap: 0.4550 - val_categorical_accuracy: 0.2817\n",
      "\n",
      "Epoch 00017: val_tf_lwlrap improved from 0.44002 to 0.45497, saving model to model_best1.h5\n",
      "Epoch 18/303\n",
      "125/125 [==============================] - 11s 87ms/step - loss: 0.0677 - tf_lwlrap: 0.3396 - categorical_accuracy: 0.1848 - val_loss: 0.0524 - val_tf_lwlrap: 0.4847 - val_categorical_accuracy: 0.2998\n",
      "\n",
      "Epoch 00018: val_tf_lwlrap improved from 0.45497 to 0.48470, saving model to model_best1.h5\n",
      "Epoch 19/303\n",
      "125/125 [==============================] - 11s 88ms/step - loss: 0.0661 - tf_lwlrap: 0.3523 - categorical_accuracy: 0.1887 - val_loss: 0.0527 - val_tf_lwlrap: 0.4735 - val_categorical_accuracy: 0.2948\n",
      "\n",
      "Epoch 00019: val_tf_lwlrap did not improve from 0.48470\n",
      "Epoch 20/303\n",
      "125/125 [==============================] - 11s 87ms/step - loss: 0.0652 - tf_lwlrap: 0.3661 - categorical_accuracy: 0.2052 - val_loss: 0.0532 - val_tf_lwlrap: 0.4511 - val_categorical_accuracy: 0.2726\n",
      "\n",
      "Epoch 00020: val_tf_lwlrap did not improve from 0.48470\n",
      "Epoch 21/303\n",
      "125/125 [==============================] - 11s 89ms/step - loss: 0.0658 - tf_lwlrap: 0.3674 - categorical_accuracy: 0.2095 - val_loss: 0.0523 - val_tf_lwlrap: 0.4491 - val_categorical_accuracy: 0.2807\n",
      "\n",
      "Epoch 00021: val_tf_lwlrap did not improve from 0.48470\n",
      "Epoch 22/303\n",
      "125/125 [==============================] - 11s 87ms/step - loss: 0.0647 - tf_lwlrap: 0.3791 - categorical_accuracy: 0.2220 - val_loss: 0.0515 - val_tf_lwlrap: 0.4768 - val_categorical_accuracy: 0.2827\n",
      "\n",
      "Epoch 00022: val_tf_lwlrap did not improve from 0.48470\n",
      "Epoch 23/303\n",
      "125/125 [==============================] - 11s 87ms/step - loss: 0.0637 - tf_lwlrap: 0.3850 - categorical_accuracy: 0.2220 - val_loss: 0.0517 - val_tf_lwlrap: 0.4805 - val_categorical_accuracy: 0.2998\n",
      "\n",
      "Epoch 00023: val_tf_lwlrap did not improve from 0.48470\n",
      "Epoch 24/303\n",
      "125/125 [==============================] - 11s 87ms/step - loss: 0.0622 - tf_lwlrap: 0.4058 - categorical_accuracy: 0.2417 - val_loss: 0.0514 - val_tf_lwlrap: 0.5149 - val_categorical_accuracy: 0.3441\n",
      "\n",
      "Epoch 00024: val_tf_lwlrap improved from 0.48470 to 0.51495, saving model to model_best1.h5\n",
      "Epoch 25/303\n",
      "125/125 [==============================] - 11s 87ms/step - loss: 0.0612 - tf_lwlrap: 0.4074 - categorical_accuracy: 0.2515 - val_loss: 0.0491 - val_tf_lwlrap: 0.4920 - val_categorical_accuracy: 0.3008\n",
      "\n",
      "Epoch 00025: val_tf_lwlrap did not improve from 0.51495\n",
      "Epoch 26/303\n",
      "125/125 [==============================] - 11s 88ms/step - loss: 0.0616 - tf_lwlrap: 0.4196 - categorical_accuracy: 0.2495 - val_loss: 0.0488 - val_tf_lwlrap: 0.5406 - val_categorical_accuracy: 0.3571\n",
      "\n",
      "Epoch 00026: val_tf_lwlrap improved from 0.51495 to 0.54060, saving model to model_best1.h5\n",
      "Epoch 27/303\n",
      "125/125 [==============================] - 11s 88ms/step - loss: 0.0621 - tf_lwlrap: 0.4229 - categorical_accuracy: 0.2548 - val_loss: 0.0481 - val_tf_lwlrap: 0.5436 - val_categorical_accuracy: 0.3773\n",
      "\n",
      "Epoch 00027: val_tf_lwlrap improved from 0.54060 to 0.54359, saving model to model_best1.h5\n",
      "Epoch 28/303\n",
      "125/125 [==============================] - 11s 89ms/step - loss: 0.0617 - tf_lwlrap: 0.4275 - categorical_accuracy: 0.2773 - val_loss: 0.0485 - val_tf_lwlrap: 0.5201 - val_categorical_accuracy: 0.3491\n",
      "\n",
      "Epoch 00028: val_tf_lwlrap did not improve from 0.54359\n",
      "Epoch 29/303\n",
      "125/125 [==============================] - 11s 87ms/step - loss: 0.0606 - tf_lwlrap: 0.4330 - categorical_accuracy: 0.2750 - val_loss: 0.0474 - val_tf_lwlrap: 0.5658 - val_categorical_accuracy: 0.3793\n",
      "\n",
      "Epoch 00029: val_tf_lwlrap improved from 0.54359 to 0.56585, saving model to model_best1.h5\n",
      "Epoch 30/303\n",
      "125/125 [==============================] - 11s 88ms/step - loss: 0.0609 - tf_lwlrap: 0.4375 - categorical_accuracy: 0.2700 - val_loss: 0.0458 - val_tf_lwlrap: 0.5607 - val_categorical_accuracy: 0.3742\n",
      "\n",
      "Epoch 00030: val_tf_lwlrap did not improve from 0.56585\n",
      "Epoch 31/303\n",
      "125/125 [==============================] - 11s 88ms/step - loss: 0.0595 - tf_lwlrap: 0.4559 - categorical_accuracy: 0.2913 - val_loss: 0.0486 - val_tf_lwlrap: 0.5399 - val_categorical_accuracy: 0.3662\n",
      "\n",
      "Epoch 00031: val_tf_lwlrap did not improve from 0.56585\n",
      "Epoch 32/303\n",
      "125/125 [==============================] - 11s 87ms/step - loss: 0.0583 - tf_lwlrap: 0.4614 - categorical_accuracy: 0.2948 - val_loss: 0.0437 - val_tf_lwlrap: 0.5950 - val_categorical_accuracy: 0.4105\n",
      "\n",
      "Epoch 00032: val_tf_lwlrap improved from 0.56585 to 0.59496, saving model to model_best1.h5\n",
      "Epoch 33/303\n",
      "125/125 [==============================] - 11s 87ms/step - loss: 0.0600 - tf_lwlrap: 0.4533 - categorical_accuracy: 0.2910 - val_loss: 0.0463 - val_tf_lwlrap: 0.5648 - val_categorical_accuracy: 0.3662\n",
      "\n",
      "Epoch 00033: val_tf_lwlrap did not improve from 0.59496\n",
      "Epoch 34/303\n",
      "125/125 [==============================] - 11s 87ms/step - loss: 0.0580 - tf_lwlrap: 0.4787 - categorical_accuracy: 0.3228 - val_loss: 0.0438 - val_tf_lwlrap: 0.5951 - val_categorical_accuracy: 0.3893\n",
      "\n",
      "Epoch 00034: val_tf_lwlrap improved from 0.59496 to 0.59509, saving model to model_best1.h5\n",
      "Epoch 35/303\n",
      "125/125 [==============================] - 11s 88ms/step - loss: 0.0579 - tf_lwlrap: 0.4843 - categorical_accuracy: 0.3142 - val_loss: 0.0433 - val_tf_lwlrap: 0.6225 - val_categorical_accuracy: 0.4416\n",
      "\n",
      "Epoch 00035: val_tf_lwlrap improved from 0.59509 to 0.62249, saving model to model_best1.h5\n",
      "Epoch 36/303\n",
      "125/125 [==============================] - 11s 89ms/step - loss: 0.0574 - tf_lwlrap: 0.4865 - categorical_accuracy: 0.3332 - val_loss: 0.0436 - val_tf_lwlrap: 0.6155 - val_categorical_accuracy: 0.4346\n",
      "\n",
      "Epoch 00036: val_tf_lwlrap did not improve from 0.62249\n",
      "Epoch 37/303\n",
      "125/125 [==============================] - 11s 87ms/step - loss: 0.0579 - tf_lwlrap: 0.4837 - categorical_accuracy: 0.3245 - val_loss: 0.0446 - val_tf_lwlrap: 0.6022 - val_categorical_accuracy: 0.4095\n",
      "\n",
      "Epoch 00037: val_tf_lwlrap did not improve from 0.62249\n",
      "Epoch 38/303\n",
      "125/125 [==============================] - 11s 87ms/step - loss: 0.0558 - tf_lwlrap: 0.5043 - categorical_accuracy: 0.3522 - val_loss: 0.0451 - val_tf_lwlrap: 0.5877 - val_categorical_accuracy: 0.4064\n",
      "\n",
      "Epoch 00038: val_tf_lwlrap did not improve from 0.62249\n",
      "Epoch 39/303\n",
      "125/125 [==============================] - 11s 87ms/step - loss: 0.0555 - tf_lwlrap: 0.5147 - categorical_accuracy: 0.3480 - val_loss: 0.0428 - val_tf_lwlrap: 0.6385 - val_categorical_accuracy: 0.4427\n",
      "\n",
      "Epoch 00039: val_tf_lwlrap improved from 0.62249 to 0.63854, saving model to model_best1.h5\n",
      "Epoch 40/303\n",
      "125/125 [==============================] - 11s 88ms/step - loss: 0.0547 - tf_lwlrap: 0.5162 - categorical_accuracy: 0.3762 - val_loss: 0.0408 - val_tf_lwlrap: 0.6316 - val_categorical_accuracy: 0.4608\n",
      "\n",
      "Epoch 00040: val_tf_lwlrap did not improve from 0.63854\n",
      "Epoch 41/303\n",
      "125/125 [==============================] - 11s 88ms/step - loss: 0.0551 - tf_lwlrap: 0.5255 - categorical_accuracy: 0.3795 - val_loss: 0.0411 - val_tf_lwlrap: 0.6482 - val_categorical_accuracy: 0.4839\n",
      "\n",
      "Epoch 00041: val_tf_lwlrap improved from 0.63854 to 0.64820, saving model to model_best1.h5\n",
      "Epoch 42/303\n",
      "125/125 [==============================] - 11s 88ms/step - loss: 0.0540 - tf_lwlrap: 0.5401 - categorical_accuracy: 0.3830 - val_loss: 0.0412 - val_tf_lwlrap: 0.6508 - val_categorical_accuracy: 0.4588\n",
      "\n",
      "Epoch 00042: val_tf_lwlrap improved from 0.64820 to 0.65077, saving model to model_best1.h5\n",
      "Epoch 43/303\n",
      " 61/125 [=============>................] - ETA: 5s - loss: 0.0559 - tf_lwlrap: 0.5203 - categorical_accuracy: 0.3791"
     ]
    }
   ],
   "source": [
    "hist = model.fit_generator(\n",
    "    train_generator,\n",
    "    steps_per_epoch=train_steps,\n",
    "    validation_data=validation_generator,\n",
    "    validation_steps=val_steps,\n",
    "    epochs=EPOCHS[0],\n",
    "    verbose=1,\n",
    "    callbacks=callbacks_list)"
   ]
  },
  {
   "cell_type": "code",
   "execution_count": 49,
   "metadata": {
    "ExecuteTime": {
     "end_time": "2019-05-23T17:24:33.752513Z",
     "start_time": "2019-05-23T17:24:33.703253Z"
    }
   },
   "outputs": [
    {
     "name": "stdout",
     "output_type": "stream",
     "text": [
      "1e-05\n"
     ]
    }
   ],
   "source": [
    "print(K.eval(model.optimizer.lr))"
   ]
  },
  {
   "cell_type": "code",
   "execution_count": 50,
   "metadata": {
    "ExecuteTime": {
     "end_time": "2019-05-23T17:24:49.738254Z",
     "start_time": "2019-05-23T17:24:49.733932Z"
    }
   },
   "outputs": [],
   "source": [
    "if EPOCHS[1] > 0:\n",
    "    checkpoint = ModelCheckpoint(checkpoint_file[1], monitor='val_tf_lwlrap', verbose=1, \n",
    "                             save_best_only=True, mode='max', save_weights_only = False)\n",
    "    callbacks_list = [checkpoint, csv_logger, reduceLROnPlat]\n",
    "    \n",
    "    hist = model.fit_generator(\n",
    "    train_generator,\n",
    "    steps_per_epoch=train_steps,\n",
    "    validation_data=validation_generator,\n",
    "    validation_steps=val_steps,\n",
    "    epochs=EPOCHS[1],\n",
    "    verbose=1,\n",
    "    callbacks=callbacks_list)"
   ]
  },
  {
   "cell_type": "code",
   "execution_count": 51,
   "metadata": {
    "ExecuteTime": {
     "end_time": "2019-05-23T17:24:56.700056Z",
     "start_time": "2019-05-23T17:24:56.696175Z"
    }
   },
   "outputs": [
    {
     "name": "stdout",
     "output_type": "stream",
     "text": [
      "1e-05\n"
     ]
    }
   ],
   "source": [
    "print(K.eval(model.optimizer.lr))"
   ]
  },
  {
   "cell_type": "code",
   "execution_count": 52,
   "metadata": {
    "ExecuteTime": {
     "end_time": "2019-05-23T17:25:03.560726Z",
     "start_time": "2019-05-23T17:25:03.556413Z"
    }
   },
   "outputs": [],
   "source": [
    "if EPOCHS[2] > 0:\n",
    "    checkpoint = ModelCheckpoint(checkpoint_file[2], monitor='val_tf_lwlrap', verbose=1, \n",
    "                             save_best_only=True, mode='max', save_weights_only = False)\n",
    "    callbacks_list = [checkpoint, csv_logger, reduceLROnPlat]\n",
    "    \n",
    "    hist = model.fit_generator(\n",
    "    train_generator,\n",
    "    steps_per_epoch=train_steps,\n",
    "    validation_data=validation_generator,\n",
    "    validation_steps=val_steps,\n",
    "    epochs=EPOCHS[2],\n",
    "    verbose=1,\n",
    "    callbacks=callbacks_list)"
   ]
  },
  {
   "cell_type": "code",
   "execution_count": 53,
   "metadata": {
    "ExecuteTime": {
     "end_time": "2019-05-23T17:25:10.656927Z",
     "start_time": "2019-05-23T17:25:10.652873Z"
    }
   },
   "outputs": [
    {
     "name": "stdout",
     "output_type": "stream",
     "text": [
      "1e-05\n"
     ]
    }
   ],
   "source": [
    "print(K.eval(model.optimizer.lr))"
   ]
  },
  {
   "cell_type": "code",
   "execution_count": 54,
   "metadata": {
    "ExecuteTime": {
     "end_time": "2019-05-23T17:25:49.505270Z",
     "start_time": "2019-05-23T17:25:49.263010Z"
    }
   },
   "outputs": [
    {
     "data": {
      "text/plain": [
       "<matplotlib.legend.Legend at 0x7f6a157c9e80>"
      ]
     },
     "execution_count": 54,
     "metadata": {},
     "output_type": "execute_result"
    },
    {
     "data": {
      "image/png": "[encoded data removed]",
      "text/plain": [
       "<Figure size 1080x360 with 2 Axes>"
      ]
     },
     "metadata": {},
     "output_type": "display_data"
    }
   ],
   "source": [
    "fig, ax = plt.subplots(1, 2, figsize=(15,5))\n",
    "ax[0].set_title('loss')\n",
    "ax[0].plot(hist.epoch, hist.history[\"loss\"], label=\"Train loss\")\n",
    "ax[0].plot(hist.epoch, hist.history[\"val_loss\"], label=\"Validation loss\")\n",
    "ax[1].set_title('categorical_accuracy')\n",
    "ax[1].plot(hist.epoch, hist.history[\"categorical_accuracy\"], label=\"Train categorical_accuracy\")\n",
    "ax[1].plot(hist.epoch, hist.history[\"val_categorical_accuracy\"], label=\"Validation categorical_accuracy\")\n",
    "ax[0].legend()\n",
    "ax[1].legend()"
   ]
  },
  {
   "cell_type": "code",
   "execution_count": 55,
   "metadata": {
    "ExecuteTime": {
     "end_time": "2019-05-23T17:26:06.691939Z",
     "start_time": "2019-05-23T17:26:06.476256Z"
    }
   },
   "outputs": [
    {
     "data": {
      "text/plain": [
       "<matplotlib.legend.Legend at 0x7f6a156f0ac8>"
      ]
     },
     "execution_count": 55,
     "metadata": {},
     "output_type": "execute_result"
    },
    {
     "data": {
      "image/png": "[encoded data removed]",
      "text/plain": [
       "<Figure size 1080x360 with 2 Axes>"
      ]
     },
     "metadata": {},
     "output_type": "display_data"
    }
   ],
   "source": [
    "fig, ax = plt.subplots(1, 2, figsize=(15,5))\n",
    "ax[0].set_title('tf_lwlrap')\n",
    "ax[0].plot(hist.epoch, hist.history[\"tf_lwlrap\"], label=\"Train lwlrap\")\n",
    "ax[0].plot(hist.epoch, hist.history[\"val_tf_lwlrap\"], label=\"Validation lwlrap\")\n",
    "ax[1].set_title('categorical_accuracy')\n",
    "ax[1].plot(hist.epoch, hist.history[\"categorical_accuracy\"], label=\"Train categorical_accuracy\")\n",
    "ax[1].plot(hist.epoch, hist.history[\"val_categorical_accuracy\"], label=\"Validation categorical_accuracy\")\n",
    "ax[0].legend()\n",
    "ax[1].legend()"
   ]
  },
  {
   "cell_type": "code",
   "execution_count": 56,
   "metadata": {
    "ExecuteTime": {
     "end_time": "2019-05-23T17:26:23.524439Z",
     "start_time": "2019-05-23T17:26:23.341389Z"
    }
   },
   "outputs": [
    {
     "name": "stdout",
     "output_type": "stream",
     "text": [
      "32/32 [==============================] - 1s 29ms/step\n",
      "32/32 [==============================] - 1s 22ms/step\n",
      "32/32 [==============================] - 1s 22ms/step\n",
      "32/32 [==============================] - 1s 23ms/step\n",
      "32/32 [==============================] - 1s 22ms/step\n",
      "32/32 [==============================] - 1s 23ms/step\n",
      "32/32 [==============================] - 1s 23ms/step\n",
      "32/32 [==============================] - 1s 22ms/step\n",
      "32/32 [==============================] - 1s 23ms/step\n",
      "32/32 [==============================] - 1s 22ms/step\n",
      "32/32 [==============================] - 1s 23ms/step\n",
      "32/32 [==============================] - 1s 23ms/step\n",
      "32/32 [==============================] - 1s 22ms/step\n",
      "32/32 [==============================] - 1s 23ms/step\n",
      "32/32 [==============================] - 1s 22ms/step\n",
      "32/32 [==============================] - 1s 22ms/step\n",
      "32/32 [==============================] - 1s 23ms/step\n",
      "32/32 [==============================] - 1s 23ms/step\n",
      "32/32 [==============================] - 1s 22ms/step\n",
      "32/32 [==============================] - 1s 22ms/step\n"
     ]
    }
   ],
   "source": [
    "model.load_weights(checkpoint_file[0])\n",
    "\n",
    "validation_generator = FATTrainDataset.create_generator(\n",
    "      x_val, y_val, BATCH_SIZE, (SIZE,SIZE,3), augument=False, shuffling=False)\n",
    "pred_val_y = model.predict_generator(validation_generator,steps=val_steps,verbose=1)\n",
    "\n",
    "for kk in range(len(TTA)):\n",
    "    \n",
    "    for ii in range(TTA[kk]):\n",
    "        validation_generator = FATTrainDataset.create_generator(\n",
    "          x_val, y_val, BATCH_SIZE, (SIZE,SIZE,3), augument=False, shuffling=False)\n",
    "        \n",
    "        pred_val_y += model.predict_generator(validation_generator,steps=val_steps,verbose=1)\n",
    "    \n",
    "    if kk+1 < len(TTA) and TTA[kk+1] > 0:\n",
    "        model.load_weights(checkpoint_file[kk+1])"
   ]
  },
  {
   "cell_type": "code",
   "execution_count": 57,
   "metadata": {
    "ExecuteTime": {
     "end_time": "2019-05-23T17:26:51.330003Z",
     "start_time": "2019-05-23T17:26:44.304641Z"
    }
   },
   "outputs": [
    {
     "name": "stdout",
     "output_type": "stream",
     "text": [
      "125/125 [==============================] - 3s 22ms/step\n"
     ]
    }
   ],
   "source": [
    "train_generator = FATTrainDataset.create_generator(\n",
    "    x_trn, y_trn, BATCH_SIZE, (SIZE,SIZE,3), augument=False, shuffling=False)\n",
    "pred_train_y = model.predict_generator(train_generator,steps=train_steps,verbose=1)"
   ]
  },
  {
   "cell_type": "code",
   "execution_count": 58,
   "metadata": {
    "ExecuteTime": {
     "end_time": "2019-05-23T17:27:04.885570Z",
     "start_time": "2019-05-23T17:27:04.881613Z"
    }
   },
   "outputs": [],
   "source": [
    "def calculate_overall_lwlrap_sklearn(truth, scores):\n",
    "    \"\"\"Calculate the overall lwlrap using sklearn.metrics.lrap.\"\"\"\n",
    "    # sklearn doesn't correctly apply weighting to samples with no labels, so just skip them.\n",
    "    sample_weight = np.sum(truth > 0, axis=1)\n",
    "    nonzero_weight_sample_indices = np.flatnonzero(sample_weight > 0)\n",
    "    overall_lwlrap = sklearn.metrics.label_ranking_average_precision_score(\n",
    "      truth[nonzero_weight_sample_indices, :] > 0, \n",
    "      scores[nonzero_weight_sample_indices, :], \n",
    "      sample_weight=sample_weight[nonzero_weight_sample_indices])\n",
    "    return overall_lwlrap"
   ]
  },
  {
   "cell_type": "code",
   "execution_count": 59,
   "metadata": {
    "ExecuteTime": {
     "end_time": "2019-05-23T17:27:43.577539Z",
     "start_time": "2019-05-23T17:27:43.558683Z"
    }
   },
   "outputs": [
    {
     "name": "stdout",
     "output_type": "stream",
     "text": [
      "lwlrap from sklearn.metrics for training data = 0.9688745716872545\n",
      "val lwlrap from sklearn.metrics = 0.8204852345561273\n"
     ]
    },
    {
     "ename": "NameError",
     "evalue": "name 'calculate_per_class_lwlrap' is not defined",
     "output_type": "error",
     "traceback": [
      "\u001b[0;31m---------------------------------------------------------------------------\u001b[0m",
      "\u001b[0;31mNameError\u001b[0m                                 Traceback (most recent call last)",
      "\u001b[0;32m<ipython-input-59-53a6868ee162>\u001b[0m in \u001b[0;36m<module>\u001b[0;34m()\u001b[0m\n\u001b[1;32m      2\u001b[0m \u001b[0mprint\u001b[0m\u001b[0;34m(\u001b[0m\u001b[0;34m\"val lwlrap from sklearn.metrics =\"\u001b[0m\u001b[0;34m,\u001b[0m \u001b[0mcalculate_overall_lwlrap_sklearn\u001b[0m\u001b[0;34m(\u001b[0m\u001b[0my_val\u001b[0m\u001b[0;34m,\u001b[0m \u001b[0mpred_val_y\u001b[0m\u001b[0;34m/\u001b[0m\u001b[0;36m10\u001b[0m\u001b[0;34m)\u001b[0m\u001b[0;34m)\u001b[0m\u001b[0;34m\u001b[0m\u001b[0m\n\u001b[1;32m      3\u001b[0m \u001b[0;34m\u001b[0m\u001b[0m\n\u001b[0;32m----> 4\u001b[0;31m \u001b[0mscore\u001b[0m\u001b[0;34m,\u001b[0m \u001b[0mweight\u001b[0m \u001b[0;34m=\u001b[0m \u001b[0mcalculate_per_class_lwlrap\u001b[0m\u001b[0;34m(\u001b[0m\u001b[0my_val\u001b[0m\u001b[0;34m,\u001b[0m \u001b[0mpred_val_y\u001b[0m\u001b[0;34m)\u001b[0m\u001b[0;34m\u001b[0m\u001b[0m\n\u001b[0m\u001b[1;32m      5\u001b[0m \u001b[0mlwlrap\u001b[0m \u001b[0;34m=\u001b[0m \u001b[0;34m(\u001b[0m\u001b[0mscore\u001b[0m \u001b[0;34m*\u001b[0m \u001b[0mweight\u001b[0m\u001b[0;34m)\u001b[0m\u001b[0;34m.\u001b[0m\u001b[0msum\u001b[0m\u001b[0;34m(\u001b[0m\u001b[0;34m)\u001b[0m\u001b[0;34m\u001b[0m\u001b[0m\n\u001b[1;32m      6\u001b[0m \u001b[0mprint\u001b[0m\u001b[0;34m(\u001b[0m\u001b[0;34m'direct calculation of val lwlrap : %.4f'\u001b[0m \u001b[0;34m%\u001b[0m \u001b[0;34m(\u001b[0m\u001b[0mlwlrap\u001b[0m\u001b[0;34m)\u001b[0m\u001b[0;34m)\u001b[0m\u001b[0;34m\u001b[0m\u001b[0m\n",
      "\u001b[0;31mNameError\u001b[0m: name 'calculate_per_class_lwlrap' is not defined"
     ]
    }
   ],
   "source": [
    "print(\"lwlrap from sklearn.metrics for training data =\", calculate_overall_lwlrap_sklearn(y_trn, pred_train_y))\n",
    "print(\"val lwlrap from sklearn.metrics =\", calculate_overall_lwlrap_sklearn(y_val, pred_val_y/10))\n",
    "\n",
    "score, weight = calculate_per_class_lwlrap(y_val, pred_val_y)\n",
    "lwlrap = (score * weight).sum()\n",
    "print('direct calculation of val lwlrap : %.4f' % (lwlrap))"
   ]
  },
  {
   "cell_type": "markdown",
   "metadata": {},
   "source": [
    "## Simple Error Analysis"
   ]
  },
  {
   "cell_type": "code",
   "execution_count": 60,
   "metadata": {
    "ExecuteTime": {
     "end_time": "2019-05-23T17:28:09.762059Z",
     "start_time": "2019-05-23T17:28:09.742976Z"
    }
   },
   "outputs": [
    {
     "name": "stdout",
     "output_type": "stream",
     "text": [
      "(125, 80) (869, 80)\n",
      "val lwlrap for multi-labels = 0.8062598940084081\n",
      "val lwlrap for single-label = 0.8247250080910628\n"
     ]
    }
   ],
   "source": [
    "idx = np.sum(y_val,axis=1) > 1\n",
    "print(y_val[idx, :].shape, y_val[idx==False, :].shape)\n",
    "\n",
    "print(\"val lwlrap for multi-labels =\", calculate_overall_lwlrap_sklearn(y_val[idx], pred_val_y[idx]))\n",
    "print(\"val lwlrap for single-label =\", calculate_overall_lwlrap_sklearn(y_val[idx==False], pred_val_y[idx==False]))"
   ]
  },
  {
   "cell_type": "markdown",
   "metadata": {},
   "source": [
    "## Predict Test Data with TTA"
   ]
  },
  {
   "cell_type": "code",
   "execution_count": 61,
   "metadata": {
    "ExecuteTime": {
     "end_time": "2019-05-23T17:28:36.469644Z",
     "start_time": "2019-05-23T17:28:36.467059Z"
    }
   },
   "outputs": [],
   "source": [
    "test_steps = np.ceil(float(len(x_test)) / float(BATCH_SIZE)).astype(int)"
   ]
  },
  {
   "cell_type": "code",
   "execution_count": 62,
   "metadata": {
    "ExecuteTime": {
     "end_time": "2019-05-23T17:28:42.756909Z",
     "start_time": "2019-05-23T17:28:42.704021Z"
    }
   },
   "outputs": [
    {
     "name": "stdout",
     "output_type": "stream",
     "text": [
      "35/35 [==============================] - 1s 23ms/step\n",
      "35/35 [==============================] - 1s 23ms/step\n",
      "35/35 [==============================] - 1s 23ms/step\n",
      "35/35 [==============================] - 1s 23ms/step\n",
      "35/35 [==============================] - 1s 23ms/step\n",
      "35/35 [==============================] - 1s 23ms/step\n",
      "35/35 [==============================] - 1s 23ms/step\n",
      "35/35 [==============================] - 1s 23ms/step\n",
      "35/35 [==============================] - 1s 23ms/step\n",
      "35/35 [==============================] - 1s 23ms/step\n",
      "35/35 [==============================] - 1s 23ms/step\n",
      "35/35 [==============================] - 1s 23ms/step\n",
      "35/35 [==============================] - 1s 23ms/step\n",
      "35/35 [==============================] - 1s 23ms/step\n",
      "35/35 [==============================] - 1s 23ms/step\n",
      "35/35 [==============================] - 1s 23ms/step\n",
      "35/35 [==============================] - 1s 23ms/step\n",
      "35/35 [==============================] - 1s 23ms/step\n",
      "35/35 [==============================] - 1s 23ms/step\n",
      "35/35 [==============================] - 1s 23ms/step\n"
     ]
    }
   ],
   "source": [
    "model.load_weights(checkpoint_file[0])\n",
    "\n",
    "test_generator = FATTrainDataset.create_generator(\n",
    "    x_test, x_test, BATCH_SIZE, (SIZE,SIZE,3), augument=False, shuffling=False, test_data=True)\n",
    "pred_test_y = model.predict_generator(test_generator,steps=test_steps,verbose=1)\n",
    "\n",
    "for kk in range(len(TTA)):\n",
    "    for ii in range(TTA[kk]):\n",
    "        test_generator = FATTrainDataset.create_generator(\n",
    "        x_test, x_test, BATCH_SIZE, (SIZE,SIZE,3), augument=False, shuffling=False, test_data=True)\n",
    "        \n",
    "        pred_test_y += model.predict_generator(test_generator,steps=test_steps,verbose=1)\n",
    "    \n",
    "    if kk+1 < len(TTA) and TTA[kk+1] > 0:\n",
    "        model.load_weights(checkpoint_file[kk+1])"
   ]
  },
  {
   "cell_type": "code",
   "execution_count": 63,
   "metadata": {
    "ExecuteTime": {
     "end_time": "2019-05-23T17:29:06.640957Z",
     "start_time": "2019-05-23T17:29:06.637367Z"
    }
   },
   "outputs": [
    {
     "name": "stdout",
     "output_type": "stream",
     "text": [
      "[ 0  1  2  3  4  5  6  7  8  9 10 11 12 13 14 15 16 17 18 19 20 21 22 23\n",
      " 24 25 26 27 28 29 30 31 32 33 34 35 36 37 38 39 40 41 42 43 44 45 46 47\n",
      " 48 49 50 51 52 53 54 55 56 57 58 59 60 61 62 63 64 65 66 67 68 69 70 71\n",
      " 72 73 74 75 76 77 78 79]\n"
     ]
    }
   ],
   "source": [
    "sort_idx = np.argsort(labels).astype(int)\n",
    "print(sort_idx)"
   ]
  },
  {
   "cell_type": "code",
   "execution_count": 64,
   "metadata": {
    "ExecuteTime": {
     "end_time": "2019-05-23T17:29:21.025980Z",
     "start_time": "2019-05-23T17:29:20.988152Z"
    }
   },
   "outputs": [
    {
     "data": {
      "text/html": [
       "<div>\n",
       "<style scoped>\n",
       "    .dataframe tbody tr th:only-of-type {\n",
       "        vertical-align: middle;\n",
       "    }\n",
       "\n",
       "    .dataframe tbody tr th {\n",
       "        vertical-align: top;\n",
       "    }\n",
       "\n",
       "    .dataframe thead th {\n",
       "        text-align: right;\n",
       "    }\n",
       "</style>\n",
       "<table border=\"1\" class=\"dataframe\">\n",
       "  <thead>\n",
       "    <tr style=\"text-align: right;\">\n",
       "      <th></th>\n",
       "      <th>fname</th>\n",
       "      <th>Accelerating_and_revving_and_vroom</th>\n",
       "      <th>Accordion</th>\n",
       "      <th>Acoustic_guitar</th>\n",
       "      <th>Applause</th>\n",
       "      <th>Bark</th>\n",
       "      <th>Bass_drum</th>\n",
       "      <th>Bass_guitar</th>\n",
       "      <th>Bathtub_(filling_or_washing)</th>\n",
       "      <th>Bicycle_bell</th>\n",
       "      <th>Burping_and_eructation</th>\n",
       "      <th>Bus</th>\n",
       "      <th>Buzz</th>\n",
       "      <th>Car_passing_by</th>\n",
       "      <th>Cheering</th>\n",
       "      <th>Chewing_and_mastication</th>\n",
       "      <th>Child_speech_and_kid_speaking</th>\n",
       "      <th>Chink_and_clink</th>\n",
       "      <th>Chirp_and_tweet</th>\n",
       "      <th>Church_bell</th>\n",
       "      <th>Clapping</th>\n",
       "      <th>Computer_keyboard</th>\n",
       "      <th>Crackle</th>\n",
       "      <th>Cricket</th>\n",
       "      <th>Crowd</th>\n",
       "      <th>Cupboard_open_or_close</th>\n",
       "      <th>Cutlery_and_silverware</th>\n",
       "      <th>Dishes_and_pots_and_pans</th>\n",
       "      <th>Drawer_open_or_close</th>\n",
       "      <th>Drip</th>\n",
       "      <th>Electric_guitar</th>\n",
       "      <th>Fart</th>\n",
       "      <th>Female_singing</th>\n",
       "      <th>Female_speech_and_woman_speaking</th>\n",
       "      <th>Fill_(with_liquid)</th>\n",
       "      <th>Finger_snapping</th>\n",
       "      <th>Frying_(food)</th>\n",
       "      <th>Gasp</th>\n",
       "      <th>Glockenspiel</th>\n",
       "      <th>Gong</th>\n",
       "      <th>...</th>\n",
       "      <th>Harmonica</th>\n",
       "      <th>Hi-hat</th>\n",
       "      <th>Hiss</th>\n",
       "      <th>Keys_jangling</th>\n",
       "      <th>Knock</th>\n",
       "      <th>Male_singing</th>\n",
       "      <th>Male_speech_and_man_speaking</th>\n",
       "      <th>Marimba_and_xylophone</th>\n",
       "      <th>Mechanical_fan</th>\n",
       "      <th>Meow</th>\n",
       "      <th>Microwave_oven</th>\n",
       "      <th>Motorcycle</th>\n",
       "      <th>Printer</th>\n",
       "      <th>Purr</th>\n",
       "      <th>Race_car_and_auto_racing</th>\n",
       "      <th>Raindrop</th>\n",
       "      <th>Run</th>\n",
       "      <th>Scissors</th>\n",
       "      <th>Screaming</th>\n",
       "      <th>Shatter</th>\n",
       "      <th>Sigh</th>\n",
       "      <th>Sink_(filling_or_washing)</th>\n",
       "      <th>Skateboard</th>\n",
       "      <th>Slam</th>\n",
       "      <th>Sneeze</th>\n",
       "      <th>Squeak</th>\n",
       "      <th>Stream</th>\n",
       "      <th>Strum</th>\n",
       "      <th>Tap</th>\n",
       "      <th>Tick-tock</th>\n",
       "      <th>Toilet_flush</th>\n",
       "      <th>Traffic_noise_and_roadway_noise</th>\n",
       "      <th>Trickle_and_dribble</th>\n",
       "      <th>Walk_and_footsteps</th>\n",
       "      <th>Water_tap_and_faucet</th>\n",
       "      <th>Waves_and_surf</th>\n",
       "      <th>Whispering</th>\n",
       "      <th>Writing</th>\n",
       "      <th>Yell</th>\n",
       "      <th>Zipper_(clothing)</th>\n",
       "    </tr>\n",
       "  </thead>\n",
       "  <tbody>\n",
       "    <tr>\n",
       "      <th>0</th>\n",
       "      <td>000ccb97.wav</td>\n",
       "      <td>-127.045609</td>\n",
       "      <td>-150.983688</td>\n",
       "      <td>-151.600006</td>\n",
       "      <td>-146.772339</td>\n",
       "      <td>-177.248032</td>\n",
       "      <td>-64.681175</td>\n",
       "      <td>-151.189865</td>\n",
       "      <td>-150.695312</td>\n",
       "      <td>-112.409966</td>\n",
       "      <td>-157.692139</td>\n",
       "      <td>-144.769485</td>\n",
       "      <td>-155.881943</td>\n",
       "      <td>-173.186066</td>\n",
       "      <td>-142.664520</td>\n",
       "      <td>-133.446823</td>\n",
       "      <td>-152.138092</td>\n",
       "      <td>-163.718872</td>\n",
       "      <td>-147.393814</td>\n",
       "      <td>-156.342880</td>\n",
       "      <td>-131.708359</td>\n",
       "      <td>-158.320587</td>\n",
       "      <td>-147.073334</td>\n",
       "      <td>-111.558578</td>\n",
       "      <td>-143.565689</td>\n",
       "      <td>-168.542755</td>\n",
       "      <td>-84.692215</td>\n",
       "      <td>-166.674591</td>\n",
       "      <td>-164.264328</td>\n",
       "      <td>-144.959534</td>\n",
       "      <td>-140.258453</td>\n",
       "      <td>-112.378075</td>\n",
       "      <td>-153.225998</td>\n",
       "      <td>-150.035980</td>\n",
       "      <td>-184.115997</td>\n",
       "      <td>-87.628639</td>\n",
       "      <td>-135.821503</td>\n",
       "      <td>-173.569122</td>\n",
       "      <td>-147.733490</td>\n",
       "      <td>-159.183685</td>\n",
       "      <td>...</td>\n",
       "      <td>-122.933640</td>\n",
       "      <td>3.896685</td>\n",
       "      <td>-53.301689</td>\n",
       "      <td>-62.143463</td>\n",
       "      <td>-164.043854</td>\n",
       "      <td>-154.190948</td>\n",
       "      <td>-160.101654</td>\n",
       "      <td>-169.661240</td>\n",
       "      <td>-152.192673</td>\n",
       "      <td>-171.788116</td>\n",
       "      <td>-137.792938</td>\n",
       "      <td>-158.177979</td>\n",
       "      <td>-166.852005</td>\n",
       "      <td>-168.507706</td>\n",
       "      <td>-140.640900</td>\n",
       "      <td>-149.391052</td>\n",
       "      <td>-145.599686</td>\n",
       "      <td>-6.965182</td>\n",
       "      <td>-158.601776</td>\n",
       "      <td>-119.793518</td>\n",
       "      <td>-159.735687</td>\n",
       "      <td>-144.114883</td>\n",
       "      <td>-197.327606</td>\n",
       "      <td>-144.131790</td>\n",
       "      <td>-136.231232</td>\n",
       "      <td>-155.983612</td>\n",
       "      <td>-201.138275</td>\n",
       "      <td>-153.834549</td>\n",
       "      <td>-163.364471</td>\n",
       "      <td>-136.135422</td>\n",
       "      <td>-145.522308</td>\n",
       "      <td>-174.234955</td>\n",
       "      <td>-216.920868</td>\n",
       "      <td>-168.343399</td>\n",
       "      <td>-144.652374</td>\n",
       "      <td>-153.281265</td>\n",
       "      <td>-132.439285</td>\n",
       "      <td>-111.639565</td>\n",
       "      <td>-162.119141</td>\n",
       "      <td>-167.247314</td>\n",
       "    </tr>\n",
       "    <tr>\n",
       "      <th>1</th>\n",
       "      <td>0012633b.wav</td>\n",
       "      <td>-13.368758</td>\n",
       "      <td>-139.555313</td>\n",
       "      <td>-119.571602</td>\n",
       "      <td>-121.471085</td>\n",
       "      <td>-118.861099</td>\n",
       "      <td>-113.292381</td>\n",
       "      <td>-67.446861</td>\n",
       "      <td>-106.103943</td>\n",
       "      <td>-161.561844</td>\n",
       "      <td>-112.295792</td>\n",
       "      <td>-85.007187</td>\n",
       "      <td>-87.473831</td>\n",
       "      <td>-59.766678</td>\n",
       "      <td>-129.257065</td>\n",
       "      <td>-118.710281</td>\n",
       "      <td>-126.595047</td>\n",
       "      <td>-141.732132</td>\n",
       "      <td>-134.800949</td>\n",
       "      <td>-127.845055</td>\n",
       "      <td>-143.868942</td>\n",
       "      <td>-118.647797</td>\n",
       "      <td>-105.089348</td>\n",
       "      <td>-148.871094</td>\n",
       "      <td>-116.784233</td>\n",
       "      <td>-112.268494</td>\n",
       "      <td>-136.813980</td>\n",
       "      <td>-142.486710</td>\n",
       "      <td>-85.270660</td>\n",
       "      <td>-132.910782</td>\n",
       "      <td>-108.389755</td>\n",
       "      <td>-126.171730</td>\n",
       "      <td>-114.934242</td>\n",
       "      <td>-128.518677</td>\n",
       "      <td>-105.195564</td>\n",
       "      <td>-155.278900</td>\n",
       "      <td>-110.631683</td>\n",
       "      <td>-131.157043</td>\n",
       "      <td>-174.124527</td>\n",
       "      <td>-110.674950</td>\n",
       "      <td>...</td>\n",
       "      <td>-130.024384</td>\n",
       "      <td>-122.944778</td>\n",
       "      <td>-73.451614</td>\n",
       "      <td>-137.316620</td>\n",
       "      <td>-134.614410</td>\n",
       "      <td>-123.901917</td>\n",
       "      <td>-120.782646</td>\n",
       "      <td>-134.052277</td>\n",
       "      <td>-72.839500</td>\n",
       "      <td>-123.633247</td>\n",
       "      <td>-87.683739</td>\n",
       "      <td>-6.899538</td>\n",
       "      <td>-107.519997</td>\n",
       "      <td>-78.853241</td>\n",
       "      <td>-57.455971</td>\n",
       "      <td>-148.283432</td>\n",
       "      <td>-106.870491</td>\n",
       "      <td>-127.899132</td>\n",
       "      <td>-129.794205</td>\n",
       "      <td>-135.872543</td>\n",
       "      <td>-101.544319</td>\n",
       "      <td>-95.695831</td>\n",
       "      <td>-115.697853</td>\n",
       "      <td>-103.985291</td>\n",
       "      <td>-130.046448</td>\n",
       "      <td>-109.155098</td>\n",
       "      <td>-102.682556</td>\n",
       "      <td>-117.607170</td>\n",
       "      <td>-136.981659</td>\n",
       "      <td>-147.296646</td>\n",
       "      <td>-89.079353</td>\n",
       "      <td>-72.729065</td>\n",
       "      <td>-149.650330</td>\n",
       "      <td>-106.258194</td>\n",
       "      <td>-97.806381</td>\n",
       "      <td>-86.081932</td>\n",
       "      <td>-142.666245</td>\n",
       "      <td>-119.589050</td>\n",
       "      <td>-139.431335</td>\n",
       "      <td>-70.540810</td>\n",
       "    </tr>\n",
       "    <tr>\n",
       "      <th>2</th>\n",
       "      <td>001ed5f1.wav</td>\n",
       "      <td>-91.631500</td>\n",
       "      <td>-106.753624</td>\n",
       "      <td>-123.380676</td>\n",
       "      <td>-88.851234</td>\n",
       "      <td>-111.642685</td>\n",
       "      <td>-77.945518</td>\n",
       "      <td>-120.412216</td>\n",
       "      <td>-95.046074</td>\n",
       "      <td>-122.434990</td>\n",
       "      <td>-123.088371</td>\n",
       "      <td>-87.650963</td>\n",
       "      <td>-102.671539</td>\n",
       "      <td>-105.473579</td>\n",
       "      <td>-92.285507</td>\n",
       "      <td>-96.009743</td>\n",
       "      <td>-121.861595</td>\n",
       "      <td>-106.962227</td>\n",
       "      <td>-120.111794</td>\n",
       "      <td>-103.068672</td>\n",
       "      <td>-81.341461</td>\n",
       "      <td>-75.863632</td>\n",
       "      <td>-84.483597</td>\n",
       "      <td>-116.638168</td>\n",
       "      <td>-94.323982</td>\n",
       "      <td>-96.919228</td>\n",
       "      <td>-115.210106</td>\n",
       "      <td>-92.224205</td>\n",
       "      <td>-96.749802</td>\n",
       "      <td>-107.110153</td>\n",
       "      <td>-106.358643</td>\n",
       "      <td>-125.496109</td>\n",
       "      <td>-119.168503</td>\n",
       "      <td>-114.852676</td>\n",
       "      <td>-134.515945</td>\n",
       "      <td>-92.102196</td>\n",
       "      <td>-84.707771</td>\n",
       "      <td>-146.714005</td>\n",
       "      <td>-125.846596</td>\n",
       "      <td>-115.275284</td>\n",
       "      <td>...</td>\n",
       "      <td>-116.117928</td>\n",
       "      <td>-92.791794</td>\n",
       "      <td>-99.697365</td>\n",
       "      <td>-114.639755</td>\n",
       "      <td>-76.281609</td>\n",
       "      <td>-99.578293</td>\n",
       "      <td>-97.197998</td>\n",
       "      <td>-118.021416</td>\n",
       "      <td>-90.786362</td>\n",
       "      <td>-122.477966</td>\n",
       "      <td>-83.897247</td>\n",
       "      <td>-96.261238</td>\n",
       "      <td>-79.567986</td>\n",
       "      <td>-124.733269</td>\n",
       "      <td>-98.628479</td>\n",
       "      <td>-110.191116</td>\n",
       "      <td>-4.142453</td>\n",
       "      <td>-86.302162</td>\n",
       "      <td>-126.931778</td>\n",
       "      <td>-108.288170</td>\n",
       "      <td>-137.282700</td>\n",
       "      <td>-108.322639</td>\n",
       "      <td>-88.503670</td>\n",
       "      <td>-89.329300</td>\n",
       "      <td>-118.074249</td>\n",
       "      <td>-80.998177</td>\n",
       "      <td>-83.642258</td>\n",
       "      <td>-124.787071</td>\n",
       "      <td>-43.624569</td>\n",
       "      <td>-97.153656</td>\n",
       "      <td>-99.342300</td>\n",
       "      <td>-95.033447</td>\n",
       "      <td>-148.377747</td>\n",
       "      <td>-51.457783</td>\n",
       "      <td>-107.423065</td>\n",
       "      <td>-82.765175</td>\n",
       "      <td>-114.253311</td>\n",
       "      <td>-92.944626</td>\n",
       "      <td>-118.259697</td>\n",
       "      <td>-103.699051</td>\n",
       "    </tr>\n",
       "    <tr>\n",
       "      <th>3</th>\n",
       "      <td>00294be0.wav</td>\n",
       "      <td>-152.483887</td>\n",
       "      <td>-236.094666</td>\n",
       "      <td>-211.856583</td>\n",
       "      <td>-251.093552</td>\n",
       "      <td>-129.081055</td>\n",
       "      <td>-153.859238</td>\n",
       "      <td>-119.548149</td>\n",
       "      <td>-189.561035</td>\n",
       "      <td>-175.338287</td>\n",
       "      <td>-128.275269</td>\n",
       "      <td>-164.433563</td>\n",
       "      <td>-152.857269</td>\n",
       "      <td>-171.225677</td>\n",
       "      <td>-251.544205</td>\n",
       "      <td>-110.430740</td>\n",
       "      <td>-180.630463</td>\n",
       "      <td>-175.758774</td>\n",
       "      <td>-156.819534</td>\n",
       "      <td>-218.991318</td>\n",
       "      <td>-207.282578</td>\n",
       "      <td>-157.024796</td>\n",
       "      <td>-144.319626</td>\n",
       "      <td>-72.945915</td>\n",
       "      <td>-252.841339</td>\n",
       "      <td>-185.717850</td>\n",
       "      <td>-199.205429</td>\n",
       "      <td>-187.486176</td>\n",
       "      <td>-145.286011</td>\n",
       "      <td>-135.615463</td>\n",
       "      <td>-186.698837</td>\n",
       "      <td>-168.212326</td>\n",
       "      <td>-193.866867</td>\n",
       "      <td>-204.882034</td>\n",
       "      <td>-144.358261</td>\n",
       "      <td>-199.672272</td>\n",
       "      <td>-140.101929</td>\n",
       "      <td>-182.118469</td>\n",
       "      <td>-190.021759</td>\n",
       "      <td>-204.621002</td>\n",
       "      <td>...</td>\n",
       "      <td>-255.267334</td>\n",
       "      <td>-235.211121</td>\n",
       "      <td>-70.491150</td>\n",
       "      <td>-135.289932</td>\n",
       "      <td>-149.886993</td>\n",
       "      <td>-203.006897</td>\n",
       "      <td>-142.063339</td>\n",
       "      <td>-170.377747</td>\n",
       "      <td>-135.503952</td>\n",
       "      <td>-58.956490</td>\n",
       "      <td>-184.863266</td>\n",
       "      <td>-141.961151</td>\n",
       "      <td>-160.782303</td>\n",
       "      <td>68.870888</td>\n",
       "      <td>-200.569885</td>\n",
       "      <td>-146.312836</td>\n",
       "      <td>-176.694748</td>\n",
       "      <td>-164.514191</td>\n",
       "      <td>-210.669662</td>\n",
       "      <td>-183.497559</td>\n",
       "      <td>-156.572052</td>\n",
       "      <td>-134.459412</td>\n",
       "      <td>-233.317947</td>\n",
       "      <td>-183.875427</td>\n",
       "      <td>-195.152161</td>\n",
       "      <td>-169.569244</td>\n",
       "      <td>-178.547760</td>\n",
       "      <td>-197.535202</td>\n",
       "      <td>-189.621368</td>\n",
       "      <td>-166.414734</td>\n",
       "      <td>-212.758347</td>\n",
       "      <td>-178.232407</td>\n",
       "      <td>-176.348373</td>\n",
       "      <td>-134.814316</td>\n",
       "      <td>-140.098145</td>\n",
       "      <td>-134.550293</td>\n",
       "      <td>-159.818298</td>\n",
       "      <td>-107.165688</td>\n",
       "      <td>-214.041550</td>\n",
       "      <td>-108.517052</td>\n",
       "    </tr>\n",
       "    <tr>\n",
       "      <th>4</th>\n",
       "      <td>003fde7a.wav</td>\n",
       "      <td>-140.583771</td>\n",
       "      <td>-171.480896</td>\n",
       "      <td>-139.932571</td>\n",
       "      <td>-143.079910</td>\n",
       "      <td>-113.359467</td>\n",
       "      <td>-129.141556</td>\n",
       "      <td>-152.110245</td>\n",
       "      <td>-145.447205</td>\n",
       "      <td>15.787930</td>\n",
       "      <td>-137.044632</td>\n",
       "      <td>-136.781250</td>\n",
       "      <td>-138.535110</td>\n",
       "      <td>-140.044128</td>\n",
       "      <td>-141.811752</td>\n",
       "      <td>-127.511223</td>\n",
       "      <td>-142.966721</td>\n",
       "      <td>-91.635895</td>\n",
       "      <td>-125.974030</td>\n",
       "      <td>-137.943375</td>\n",
       "      <td>-139.136826</td>\n",
       "      <td>-141.235886</td>\n",
       "      <td>-129.840454</td>\n",
       "      <td>-120.158981</td>\n",
       "      <td>-152.375885</td>\n",
       "      <td>-155.905228</td>\n",
       "      <td>-105.250565</td>\n",
       "      <td>-103.740608</td>\n",
       "      <td>-114.292519</td>\n",
       "      <td>-126.980972</td>\n",
       "      <td>-163.534576</td>\n",
       "      <td>-149.259216</td>\n",
       "      <td>-153.465805</td>\n",
       "      <td>-120.749954</td>\n",
       "      <td>-149.213638</td>\n",
       "      <td>-115.512695</td>\n",
       "      <td>-150.931610</td>\n",
       "      <td>-159.111694</td>\n",
       "      <td>-45.151291</td>\n",
       "      <td>-142.201782</td>\n",
       "      <td>...</td>\n",
       "      <td>-151.521866</td>\n",
       "      <td>-131.952789</td>\n",
       "      <td>-131.837723</td>\n",
       "      <td>-120.681870</td>\n",
       "      <td>-123.342789</td>\n",
       "      <td>-132.216614</td>\n",
       "      <td>-133.598236</td>\n",
       "      <td>-96.648720</td>\n",
       "      <td>-158.539413</td>\n",
       "      <td>-166.441147</td>\n",
       "      <td>-103.093475</td>\n",
       "      <td>-146.401917</td>\n",
       "      <td>-135.771484</td>\n",
       "      <td>-142.996841</td>\n",
       "      <td>-149.485428</td>\n",
       "      <td>-142.983459</td>\n",
       "      <td>-129.573151</td>\n",
       "      <td>-114.854294</td>\n",
       "      <td>-139.324661</td>\n",
       "      <td>-123.752510</td>\n",
       "      <td>-140.391022</td>\n",
       "      <td>-134.399948</td>\n",
       "      <td>-129.052139</td>\n",
       "      <td>-143.782440</td>\n",
       "      <td>-122.522499</td>\n",
       "      <td>-146.158493</td>\n",
       "      <td>-144.398026</td>\n",
       "      <td>-142.971802</td>\n",
       "      <td>-148.951843</td>\n",
       "      <td>-133.121475</td>\n",
       "      <td>-103.053909</td>\n",
       "      <td>-147.201981</td>\n",
       "      <td>-164.590744</td>\n",
       "      <td>-140.898438</td>\n",
       "      <td>-142.146667</td>\n",
       "      <td>-131.444809</td>\n",
       "      <td>-149.620468</td>\n",
       "      <td>-127.854233</td>\n",
       "      <td>-132.367325</td>\n",
       "      <td>-114.034325</td>\n",
       "    </tr>\n",
       "  </tbody>\n",
       "</table>\n",
       "</div>"
      ],
      "text/plain": [
       "          fname        ...          Zipper_(clothing)\n",
       "0  000ccb97.wav        ...                -167.247314\n",
       "1  0012633b.wav        ...                 -70.540810\n",
       "2  001ed5f1.wav        ...                -103.699051\n",
       "3  00294be0.wav        ...                -108.517052\n",
       "4  003fde7a.wav        ...                -114.034325\n",
       "\n",
       "[5 rows x 81 columns]"
      ]
     },
     "execution_count": 64,
     "metadata": {},
     "output_type": "execute_result"
    }
   ],
   "source": [
    "sample_sub = pd.read_csv('../input/freesound-audio-tagging-2019/sample_submission.csv')\n",
    "test_Y_sort = pred_test_y[:, sort_idx]\n",
    "sample_sub.iloc[:, 1:] =  test_Y_sort\n",
    "sample_sub.to_csv('submission.csv', index=False)\n",
    "\n",
    "sample_sub.head()"
   ]
  }
 ],
 "metadata": {
  "kernelspec": {
   "display_name": "Python 3",
   "language": "python",
   "name": "python3"
  },
  "language_info": {
   "codemirror_mode": {
    "name": "ipython",
    "version": 3
   },
   "file_extension": ".py",
   "mimetype": "text/x-python",
   "name": "python",
   "nbconvert_exporter": "python",
   "pygments_lexer": "ipython3",
   "version": "3.7.0"
  }
 },
 "nbformat": 4,
 "nbformat_minor": 1
}
